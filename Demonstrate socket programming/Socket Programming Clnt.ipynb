{
 "cells": [
  {
   "cell_type": "markdown",
   "metadata": {},
   "source": [
    "### <div align=\"center\">Multi-Connection Client</div>\n"
   ]
  },
  {
   "cell_type": "code",
   "execution_count": 1,
   "metadata": {},
   "outputs": [],
   "source": [
    "import socket"
   ]
  },
  {
   "cell_type": "code",
   "execution_count": 2,
   "metadata": {},
   "outputs": [
    {
     "name": "stdout",
     "output_type": "stream",
     "text": [
      "Recived from the server:  ih\n",
      "\n",
      " Want to continue:(y/n): y\n",
      "Recived from the server:  ih\n",
      "\n",
      " Want to continue:(y/n): n\n"
     ]
    }
   ],
   "source": [
    "def main():\n",
    "    HOST=\"127.0.0.1\"\n",
    "    PORT=23456\n",
    "    soc = socket.socket(socket.AF_INET, socket.SOCK_STREAM)\n",
    "    soc.connect((HOST,PORT))\n",
    "    message=\"hi\"\n",
    "    while True:\n",
    "        soc.send(message.encode('ascii'))\n",
    "        data=soc.recv(1024)\n",
    "        print('Recived from the server: ', str(data.decode('ascii')))\n",
    "        ans=input('\\n Want to continue:(y/n): ')\n",
    "        if ans=='y':\n",
    "            continue\n",
    "        else:\n",
    "            break\n",
    "    soc.close()\n",
    "if __name__ == '__main__':\n",
    "    main()\n",
    "    "
   ]
  }
 ],
 "metadata": {
  "kernelspec": {
   "display_name": "Python 3",
   "language": "python",
   "name": "python3"
  },
  "language_info": {
   "codemirror_mode": {
    "name": "ipython",
    "version": 3
   },
   "file_extension": ".py",
   "mimetype": "text/x-python",
   "name": "python",
   "nbconvert_exporter": "python",
   "pygments_lexer": "ipython3",
   "version": "3.7.6"
  }
 },
 "nbformat": 4,
 "nbformat_minor": 2
}
