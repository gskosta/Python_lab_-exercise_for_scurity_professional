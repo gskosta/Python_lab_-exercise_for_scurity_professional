{
 "cells": [
  {
   "cell_type": "markdown",
   "metadata": {},
   "source": [
    "# <div align=\"center\">Exercise</div>\n",
    "\n"
   ]
  },
  {
   "cell_type": "markdown",
   "metadata": {},
   "source": [
    "## **Aim**: Write a Python program to demonstrate socket programming."
   ]
  },
  {
   "cell_type": "markdown",
   "metadata": {},
   "source": [
    "### <div align=\"center\">Multi-Connection Server</div>\n"
   ]
  },
  {
   "cell_type": "code",
   "execution_count": 2,
   "metadata": {},
   "outputs": [],
   "source": [
    "import socket\n",
    "from _thread import *\n",
    "import threading"
   ]
  },
  {
   "cell_type": "code",
   "execution_count": null,
   "metadata": {},
   "outputs": [
    {
     "name": "stdout",
     "output_type": "stream",
     "text": [
      "socket binded to port 23456\n",
      "socket is listening\n",
      "Connected to : 127.0.0.1 : 50826\n",
      "Bye\n"
     ]
    }
   ],
   "source": [
    "print_lock = threading.Lock()\n",
    "\n",
    "def threaded(c):\n",
    "    while True:\n",
    "        data = c.recv(1024)\n",
    "        if not data:\n",
    "            print('Bye')\n",
    "            print_lock.release()\n",
    "            break\n",
    "        data = data[::-1]\n",
    "        c.send(data)\n",
    "    c.close()\n",
    "    \n",
    "def Main():\n",
    "    host = \"\"\n",
    "    port = 23456\n",
    "    soc = socket.socket(socket.AF_INET, socket.SOCK_STREAM)\n",
    "    soc.bind((host, port))\n",
    "    print(\"socket binded to port\", port)\n",
    "    soc.listen(5)\n",
    "    print(\"socket is listening\")\n",
    "    while True:\n",
    "        c, addr = soc.accept()\n",
    "        print_lock.acquire()\n",
    "        print('Connected to :', addr[0], ':', addr[1])\n",
    "        start_new_thread(threaded, (c,))\n",
    "    soc.close()\n",
    "    \n",
    "if __name__ == '__main__':\n",
    "    Main()"
   ]
  },
  {
   "cell_type": "code",
   "execution_count": null,
   "metadata": {},
   "outputs": [],
   "source": []
  }
 ],
 "metadata": {
  "kernelspec": {
   "display_name": "Python 3",
   "language": "python",
   "name": "python3"
  },
  "language_info": {
   "codemirror_mode": {
    "name": "ipython",
    "version": 3
   },
   "file_extension": ".py",
   "mimetype": "text/x-python",
   "name": "python",
   "nbconvert_exporter": "python",
   "pygments_lexer": "ipython3",
   "version": "3.7.6"
  }
 },
 "nbformat": 4,
 "nbformat_minor": 2
}
