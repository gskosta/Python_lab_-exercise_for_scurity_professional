{
 "cells": [
  {
   "cell_type": "markdown",
   "metadata": {},
   "source": [
    "# <p style=\"text-align: center;\">**Exercise**</p>"
   ]
  },
  {
   "cell_type": "markdown",
   "metadata": {},
   "source": [
    "## **Aim**: Write a Python program for given exiersise."
   ]
  },
  {
   "cell_type": "markdown",
   "metadata": {},
   "source": [
    "## 1.  Write a Python program to sum all the items in a list."
   ]
  },
  {
   "cell_type": "code",
   "execution_count": 31,
   "metadata": {},
   "outputs": [
    {
     "name": "stdout",
     "output_type": "stream",
     "text": [
      "The given list is: [1, 4, 9, 16]\n",
      "The sum of the list is: 30\n"
     ]
    }
   ],
   "source": [
    "sg = [1, 4, 9, 16]\n",
    "sum = 0\n",
    "for d in range(0,len(sg)):\n",
    "    sum = sum+sg[d]\n",
    "print('The given list is: [1, 4, 9, 16]')\n",
    "print('The sum of the list is:', sum)"
   ]
  },
  {
   "cell_type": "markdown",
   "metadata": {},
   "source": [
    "## 2. Write a Python program to multiplies all the items in a list."
   ]
  },
  {
   "cell_type": "code",
   "execution_count": 29,
   "metadata": {},
   "outputs": [
    {
     "name": "stdout",
     "output_type": "stream",
     "text": [
      "The given list is: [1, 4, 9, 16]\n",
      "The multiplication of the list is: 576\n"
     ]
    }
   ],
   "source": [
    "sg = [1, 4, 9, 16]\n",
    "sum=1\n",
    "for d in range(0,len(sg)):\n",
    "    sum = sum*sg[d]\n",
    "print ('The given list is: [1, 4, 9, 16]')\n",
    "print('The multiplication of the list is:', sum)"
   ]
  },
  {
   "cell_type": "markdown",
   "metadata": {},
   "source": [
    "## 3 write a Python program to get the largest number from a list."
   ]
  },
  {
   "cell_type": "code",
   "execution_count": 27,
   "metadata": {},
   "outputs": [
    {
     "name": "stdout",
     "output_type": "stream",
     "text": [
      "The given list is:[1, 4, 9, 16] \n",
      "The largest number from the list is : 16\n"
     ]
    }
   ],
   "source": [
    "sg = [1, 4, 9, 16]\n",
    "print ('The given list is:[1, 4, 9, 16] ')\n",
    "print('The largest number from the list is :', max(sg))"
   ]
  },
  {
   "cell_type": "markdown",
   "metadata": {},
   "source": [
    "## 4. write a Python program to get the second largest number from a list."
   ]
  },
  {
   "cell_type": "code",
   "execution_count": 26,
   "metadata": {},
   "outputs": [
    {
     "name": "stdout",
     "output_type": "stream",
     "text": [
      "The given list is:[1, 4, 9, 16]\n",
      "The second largest number from the list is: 9\n"
     ]
    }
   ],
   "source": [
    "sg = [1, 4, 9, 16]\n",
    "sg.sort()\n",
    "print('The given list is:[1, 4, 9, 16]')\n",
    "print('The second largest number from the list is:', sg[-2])"
   ]
  },
  {
   "cell_type": "markdown",
   "metadata": {},
   "source": [
    "## 5. Write a Python program to count the number of strings where the string length is 2 or more and the first and last character are same from a given list of strings. "
   ]
  },
  {
   "cell_type": "code",
   "execution_count": 6,
   "metadata": {},
   "outputs": [
    {
     "name": "stdout",
     "output_type": "stream",
     "text": [
      "The given list is:[ abc ,  zyz ,  aba , ghd, hrf ]\n",
      "The number of the strings have same last and frist character from the given list:  2\n"
     ]
    }
   ],
   "source": [
    "def match_words(words):\n",
    "  ctr = 0\n",
    "  for word in words:\n",
    "    if len(word) > 1 and word[0] == word[-1]:\n",
    "      ctr += 1\n",
    "  return ctr\n",
    "print('The given list is:[ abc ,  zyz ,  aba , ghd, hrf ]')\n",
    "print('The number of the strings have same last and frist character from the given list: ', match_words(['abc', 'zyz', 'aba', 'ghd','hrf']))"
   ]
  },
  {
   "cell_type": "markdown",
   "metadata": {},
   "source": [
    "## 6. Write a Python program to remove duplicates from a list."
   ]
  },
  {
   "cell_type": "code",
   "execution_count": 21,
   "metadata": {},
   "outputs": [
    {
     "name": "stdout",
     "output_type": "stream",
     "text": [
      "The given list is: [2, 4, 10, 20, 5, 2, 20, 4] \n",
      "After removing duplicat valeues: [2, 4, 10, 20, 5]\n"
     ]
    }
   ],
   "source": [
    "\n",
    "sg = [2, 4, 10, 20, 5, 2, 20, 4] \n",
    "def Remove(sg): \n",
    "    final_list = [] \n",
    "    for num in sg: \n",
    "        if num not in final_list: \n",
    "            final_list.append(num) \n",
    "    return final_list \n",
    "print('The given list is: [2, 4, 10, 20, 5, 2, 20, 4] ')\n",
    "print('After removing duplicat valeues:',Remove(sg)) "
   ]
  }
 ],
 "metadata": {
  "kernelspec": {
   "display_name": "Python 3",
   "language": "python",
   "name": "python3"
  },
  "language_info": {
   "codemirror_mode": {
    "name": "ipython",
    "version": 3
   },
   "file_extension": ".py",
   "mimetype": "text/x-python",
   "name": "python",
   "nbconvert_exporter": "python",
   "pygments_lexer": "ipython3",
   "version": "3.7.6"
  }
 },
 "nbformat": 4,
 "nbformat_minor": 2
}
