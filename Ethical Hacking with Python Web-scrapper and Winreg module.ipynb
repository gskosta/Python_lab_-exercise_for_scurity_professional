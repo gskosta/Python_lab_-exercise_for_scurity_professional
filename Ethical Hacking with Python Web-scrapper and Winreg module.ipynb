{
 "cells": [
  {
   "cell_type": "markdown",
   "metadata": {},
   "source": [
    "# <p style=\"text-align: center;\">**Exercise**</p>"
   ]
  },
  {
   "cell_type": "markdown",
   "metadata": {},
   "source": [
    "## **Aim**: Python for Ethical Hacking."
   ]
  },
  {
   "cell_type": "markdown",
   "metadata": {},
   "source": [
    "## 1. A simple websracpper."
   ]
  },
  {
   "cell_type": "code",
   "execution_count": 3,
   "metadata": {},
   "outputs": [
    {
     "name": "stdout",
     "output_type": "stream",
     "text": [
      "\n",
      "this is with html tags : <title id=\"pageTitle\">Facebook - लॉग इन या साइन अप करें</title>\n",
      "\n",
      "this is without html tags: Facebook\n",
      "<a aria-expanded=\"false\" aria-haspopup=\"true\" class=\"_42ft _4jy0 _55pi _2agf _4o_4 _63xb _p _4jy3 _517h _51sy\" href=\"#\" id=\"u_0_i\" rel=\"toggle\" role=\"button\" style=\"max-width:200px;\"><span class=\"_55pe\">इस पेज के सेक्शन</span><span class=\"_4o_3 _3-99\"><i class=\"img sp_FketKDnZG7h sx_dac740\"></i></span></a>\n"
     ]
    }
   ],
   "source": [
    "from bs4 import BeautifulSoup\n",
    "import requests\n",
    "url=\"https://www.facebook.com/\"\n",
    "source=requests.get(url)\n",
    "soup=BeautifulSoup(source.text,'html')\n",
    "title=soup.find('title')\n",
    "print(\"\\nthis is with html tags :\",title)\n",
    "qwery=soup.find('h1')\n",
    "print(\"\\nthis is without html tags:\",qwery.text)\n",
    "links=soup.find('a')\n",
    "print(links)"
   ]
  },
  {
   "cell_type": "code",
   "execution_count": 5,
   "metadata": {},
   "outputs": [
    {
     "name": "stdout",
     "output_type": "stream",
     "text": [
      "total links in website : 53\n",
      "\n",
      "<a aria-expanded=\"false\" aria-haspopup=\"true\" class=\"_42ft _4jy0 _55pi _2agf _4o_4 _63xb _p _4jy3 _517h _51sy\" href=\"#\" id=\"u_0_i\" rel=\"toggle\" role=\"button\" style=\"max-width:200px;\"><span class=\"_55pe\">इस पेज के सेक्शन</span><span class=\"_4o_3 _3-99\"><i class=\"img sp_FketKDnZG7h sx_dac740\"></i></span></a>\n",
      "<a aria-expanded=\"false\" aria-haspopup=\"true\" class=\"_42ft _4jy0 _55pi _2agf _4o_4 _3_s2 _63xb _p _4jy3 _4jy1 selected _51sy\" href=\"#\" id=\"u_0_k\" rel=\"toggle\" role=\"button\" style=\"max-width:200px;\" tabindex=\"-1\"><span class=\"_55pe\">पहुँच-योग्यता मदद</span><span class=\"_4o_3 _3-99\"><i class=\"img sp_FketKDnZG7h sx_586210\"></i></span></a>\n",
      "<a href=\"https://www.facebook.com/\" title=\"Facebook होम पर जाएँ\"><i class=\"fb_logo img sp_DVvTt_Dqodp sx_b906b8\"><u>Facebook</u></i></a>\n",
      "<a href=\"https://www.facebook.com/recover/initiate?lwv=110&amp;ars=royal_blue_bar\">खाता भूल गए?</a>\n",
      "<a class=\"_58ms mlm\" href=\"#\" id=\"birthday-help\" role=\"button\" title=\"अधिक जानकारी के लिए क्लिक करें\"><i class=\"img sp_UQETc8Y6QpO sx_3f3536\"></i></a>\n",
      "<a aria-label=\"\" class=\"_58ms mlm\" href=\"#\" id=\"gender-help\" role=\"button\" title=\"और जानकारी के लिए क्लिक करें\"><i class=\"img sp_UQETc8Y6QpO sx_3f3536\"></i></a>\n",
      "<a href=\"/legal/terms/update\" id=\"terms-link\" rel=\"nofollow\" target=\"_blank\">शर्तों</a>\n",
      "<a href=\"/about/privacy/update\" id=\"privacy-link\" rel=\"nofollow\" target=\"_blank\">डेटा नीति</a>\n",
      "<a href=\"/policies/cookies/\" id=\"cookie-use-link\" rel=\"nofollow\" target=\"_blank\">कुकी नीति</a>\n",
      "<a href=\"#\" onclick=\"CSS.show($('captcha_whats_this')); return false;\" role=\"button\">मुझे यह क्यों दिखाई दे रहा है?</a>\n",
      "<a class=\"_58my\" href=\"#\" id=\"u_0_15\" role=\"button\">वापस जाएँ</a>\n",
      "<a class=\"_8esh\" href=\"/pages/create/?ref_type=registration_form\">एक पेज बनाएँ</a>\n",
      "<a class=\"_sv4\" dir=\"ltr\" href=\"https://mr-in.facebook.com/\" onclick='require(\"IntlUtils\").setCookieLocale(\"mr_IN\", \"hi_IN\", \"https:\\/\\/mr-in.facebook.com\\/\", \"www_list_selector\", 0); return false;' title=\"Marathi\">मराठी</a>\n",
      "<a class=\"_sv4\" dir=\"rtl\" href=\"https://ur-pk.facebook.com/\" onclick='require(\"IntlUtils\").setCookieLocale(\"ur_PK\", \"hi_IN\", \"https:\\/\\/ur-pk.facebook.com\\/\", \"www_list_selector\", 1); return false;' title=\"Urdu\">اردو</a>\n",
      "<a class=\"_sv4\" dir=\"ltr\" href=\"https://kn-in.facebook.com/\" onclick='require(\"IntlUtils\").setCookieLocale(\"kn_IN\", \"hi_IN\", \"https:\\/\\/kn-in.facebook.com\\/\", \"www_list_selector\", 2); return false;' title=\"Kannada\">ಕನ್ನಡ</a>\n",
      "<a class=\"_sv4\" dir=\"ltr\" href=\"https://ml-in.facebook.com/\" onclick='require(\"IntlUtils\").setCookieLocale(\"ml_IN\", \"hi_IN\", \"https:\\/\\/ml-in.facebook.com\\/\", \"www_list_selector\", 3); return false;' title=\"Malayalam\">മലയാളം</a>\n",
      "<a class=\"_sv4\" dir=\"ltr\" href=\"https://te-in.facebook.com/\" onclick='require(\"IntlUtils\").setCookieLocale(\"te_IN\", \"hi_IN\", \"https:\\/\\/te-in.facebook.com\\/\", \"www_list_selector\", 4); return false;' title=\"Telugu\">తెలుగు</a>\n",
      "<a class=\"_sv4\" dir=\"ltr\" href=\"https://ta-in.facebook.com/\" onclick='require(\"IntlUtils\").setCookieLocale(\"ta_IN\", \"hi_IN\", \"https:\\/\\/ta-in.facebook.com\\/\", \"www_list_selector\", 5); return false;' title=\"Tamil\">தமிழ்</a>\n",
      "<a class=\"_sv4\" dir=\"ltr\" href=\"https://gu-in.facebook.com/\" onclick='require(\"IntlUtils\").setCookieLocale(\"gu_IN\", \"hi_IN\", \"https:\\/\\/gu-in.facebook.com\\/\", \"www_list_selector\", 6); return false;' title=\"Gujarati\">ગુજરાતી</a>\n",
      "<a class=\"_sv4\" dir=\"ltr\" href=\"https://bn-in.facebook.com/\" onclick='require(\"IntlUtils\").setCookieLocale(\"bn_IN\", \"hi_IN\", \"https:\\/\\/bn-in.facebook.com\\/\", \"www_list_selector\", 7); return false;' title=\"Bengali\">বাংলা</a>\n",
      "<a class=\"_sv4\" dir=\"ltr\" href=\"https://pa-in.facebook.com/\" onclick='require(\"IntlUtils\").setCookieLocale(\"pa_IN\", \"hi_IN\", \"https:\\/\\/pa-in.facebook.com\\/\", \"www_list_selector\", 8); return false;' title=\"Punjabi\">ਪੰਜਾਬੀ</a>\n",
      "<a class=\"_sv4\" dir=\"ltr\" href=\"https://en-gb.facebook.com/\" onclick='require(\"IntlUtils\").setCookieLocale(\"en_GB\", \"hi_IN\", \"https:\\/\\/en-gb.facebook.com\\/\", \"www_list_selector\", 9); return false;' title=\"English (UK)\">English (UK)</a>\n",
      "<a ajaxify=\"/settings/language/language/?uri=https%3A%2F%2Fen-gb.facebook.com%2F&amp;source=www_list_selector_more\" class=\"_42ft _4jy0 _517i _517h _51sy\" href=\"#\" rel=\"dialog\" role=\"button\" title=\"और भाषाएँ दिखाएँ\"><i class=\"img sp_LUVkL8q0edQ sx_66064a\"></i></a>\n",
      "<a href=\"/r.php\" title=\"Facebook के लिए साइन अप करें\">साइन अप करें</a>\n",
      "<a href=\"/login/\" title=\"Facebook में लॉग इन करें\">लॉग इन करें</a>\n",
      "<a href=\"https://messenger.com/\" title=\"Messenger देखें\">Messenger</a>\n",
      "<a href=\"/lite/\" title=\"Android के लिए Facebook Lite.\">Facebook Lite</a>\n",
      "<a href=\"https://www.facebook.com/watch/\" title=\"हमारे Watch के वीडियो ब्राउज़ करें.\"> Watch </a>\n",
      "<a href=\"/directory/people/\" title=\"लोगों की हमारी डायरेक्टरी ब्राउज़ करें.\">लोग</a>\n",
      "<a href=\"/directory/pages/\" title=\"हमारी पेज डायरेक्टरी ब्राउज़ करें.\">पेज</a>\n",
      "<a href=\"/pages/category/\">पेज श्रेणियाँ</a>\n",
      "<a href=\"/places/\" title=\"Facebook पर हमारे लोकप्रिय स्थान देखें.\">स्थान</a>\n",
      "<a href=\"/games/\" title=\"Facebook गेम देखें.\">खेल</a>\n",
      "<a href=\"/directory/places/\" title=\"हमारे स्थानों की निर्देशिका ब्राउज़ करें.\">स्थान</a>\n",
      "<a href=\"/marketplace/\" title=\"Facebook Marketplace पर खरीदें और बेचें\">Marketplace</a>\n",
      "<a href=\"/directory/groups/\" title=\"हमारी समूह निर्देशिका ब्राउज़ करें.\">समूह</a>\n",
      "<a href=\"https://portal.facebook.com/\" target=\"_blank\" title=\"Learn more about Portal from Facebook\">Portal</a>\n",
      "<a data-lynx-mode=\"hover\" href=\"https://l.facebook.com/l.php?u=https%3A%2F%2Finstagram.com%2F&amp;h=AT3Xbe7qXgiM5rYc0im2HKo2UQz5zJEsHccKrQXCNkeYT0bCBSoVkMN79o1R-WKTlCQOtTMiys-qH8b_-xrwFdHVBBUYPtSOcDmJdi5P1MOQNDD64okEtvdXxY5KEmUln9RVzP8TNtpQCT3AS1isTee8w9K_HKWo\" rel=\"nofollow\" target=\"_blank\" title=\"Instagram देखें\">Instagram</a>\n",
      "<a href=\"/local/lists/245019872666104/\" title=\"हमारी स्थानीय सूचियाँ डायरेक्टरी ब्राउज़ करें.\">स्थानीय</a>\n",
      "<a href=\"/fundraisers/\" title=\"योग्य कल्याणकारी कार्यों के लिए दान करें.\">अनुदान संचय</a>\n",
      "<a href=\"/biz/directory/\" title='हमारी \"Facebook सेवाएँ\" डायरेक्टरी ब्राउज़ करें.'>सेवाएँ</a>\n",
      "<a accesskey=\"8\" href=\"/facebook\" title=\"हमारा ब्लॉग पढ़ें, संसाधन केंद्र को जानें और नौकरी के अवसर खोजें.\">परिचय</a>\n",
      "<a href=\"/ad_campaign/landing.php?placement=pflo&amp;campaign_id=402047449186&amp;extra_1=auto\" title=\"Facebook पर विज्ञापन दें.\">विज्ञापन बनाएँ</a>\n",
      "<a href=\"/pages/create/?ref_type=site_footer\" title=\"एक पेज बनाएँ\">पेज बनाएँ</a>\n",
      "<a href=\"https://developers.facebook.com/?ref=pf\" title=\"हमारे प्लेटफ़ॉर्म पर विकसित करें.\">डेवलपर</a>\n",
      "<a href=\"/careers/?ref=pf\" title=\"हमारी बेहतरीन कंपनी में आकर अपने करियर को नई दिशा दें.\">करियर</a>\n",
      "<a data-nocookies=\"1\" href=\"/privacy/explanation\" title=\"अपनी गोपनीयता और Facebook के बारे में जानें.\">गोपनीयता</a>\n",
      "<a data-nocookies=\"1\" href=\"/policies/cookies/\" title=\"कुकी और Facebook के बारे में जानें.\">कुकी</a>\n",
      "<a class=\"_41ug\" data-nocookies=\"1\" href=\"https://www.facebook.com/help/568137493302217\" title=\"विज्ञापन विकल्पों के बाेर में जानें.\">विज्ञापन विकल्प<i class=\"img sp_MTFsjNYCecr sx_9cf877\"></i></a>\n",
      "<a accesskey=\"9\" data-nocookies=\"1\" href=\"/policies?ref=pf\" title=\"हमारी शर्तें और नीतियाँ देखें.\">शर्तें</a>\n",
      "<a accesskey=\"0\" href=\"/help/?ref=pf\" title=\"हमारे मदद केंद्र पर जाएँ.\">मदद</a>\n",
      "<a accesskey=\"6\" class=\"accessible_elem\" href=\"/settings\" title=\"अपनी Facebook सेटिंग देखें और संपादित करें.\">सेटिंग</a>\n",
      "<a accesskey=\"7\" class=\"accessible_elem\" href=\"/allactivity?privacy_source=activity_log_top_menu\" title=\"अपना गतिविधि लॉग देखें\">गतिविधि लॉग</a>\n"
     ]
    }
   ],
   "source": [
    "many_link=soup.find_all('a')\n",
    "total_links=len(many_link)\n",
    "print(\"total links in website :\",total_links)\n",
    "print()\n",
    "for i in many_link:\n",
    "    print(i)\n"
   ]
  },
  {
   "cell_type": "markdown",
   "metadata": {},
   "source": [
    "## 2. demonstration of Winreg Python Module for USB access"
   ]
  },
  {
   "cell_type": "code",
   "execution_count": 13,
   "metadata": {},
   "outputs": [
    {
     "name": "stdout",
     "output_type": "stream",
     "text": [
      "Class_06&Subclass_01&Prot_01\n",
      "Class_08&Subclass_06&Prot_50\n",
      "ROOT_HUB30\n",
      "VID_0000&PID_0002\n",
      "VID_0000&PID_0003\n",
      "VID_03F0&PID_5A07\n",
      "VID_03F0&PID_DB07\n",
      "VID_04CA&PID_0061\n",
      "VID_04F2&PID_B413\n",
      "VID_04F2&PID_B413&MI_00\n",
      "VID_05C6&PID_F000\n",
      "VID_05C6&PID_F00E\n",
      "VID_05C6&PID_F00E&MI_00\n",
      "VID_090C&PID_1000\n",
      "VID_090C&PID_3000\n",
      "VID_0E8D&PID_2008\n",
      "VID_1131&PID_1001\n",
      "VID_12D1&PID_107E\n",
      "VID_12D1&PID_107E&MI_00\n",
      "Vid_12D1&Subclass_48&Prot_01\n"
     ]
    }
   ],
   "source": [
    "import winreg\n",
    "access_registry = winreg.ConnectRegistry(None,winreg.HKEY_LOCAL_MACHINE)\n",
    "access_key = winreg.OpenKey(access_registry,r\"SYSTEM\\CurrentControlSet\\ENUM\\USB\")\n",
    "for n in range(20):\n",
    "    try:\n",
    "        x =winreg.EnumKey(access_key,n)\n",
    "        print(x)\n",
    "    except:\n",
    "        break\n"
   ]
  },
  {
   "cell_type": "code",
   "execution_count": 14,
   "metadata": {},
   "outputs": [
    {
     "name": "stdout",
     "output_type": "stream",
     "text": [
      "('Linux File-CD Gadget USB Device', 1)\n",
      "('Mobile Router CD-ROM USB Device', 1)\n",
      "('USB Device', 1)\n",
      "('USB MEMORY BAR USB Device', 1)\n",
      "('hp v112b USB Device', 1)\n",
      "('hp v220w USB Device', 1)\n"
     ]
    }
   ],
   "source": [
    "from winreg import *\n",
    "aReg = ConnectRegistry(None,HKEY_LOCAL_MACHINE)\n",
    "bKey = OpenKey(aReg,r\"SYSTEM\\CurrentControlSet\\ENUM\\USBSTOR\")\n",
    "for j in range(1024):\n",
    "    try:\n",
    "        asubkey_name=EnumKey(bKey,j)\n",
    "        asubkey=OpenKey(bKey,asubkey_name)\n",
    "        bsubkey_subkey_name=EnumKey(asubkey,0)\n",
    "        bsubkey=OpenKey(asubkey,bsubkey_subkey_name)\n",
    "        val=QueryValueEx(bsubkey,\"FriendlyName\")\n",
    "        print(val)\n",
    "    except EnvironmentError:\n",
    "        break\n"
   ]
  },
  {
   "cell_type": "code",
   "execution_count": 18,
   "metadata": {},
   "outputs": [
    {
     "name": "stdout",
     "output_type": "stream",
     "text": [
      "AA00000000002456&0\n",
      "ACC7HD1000000038&0\n"
     ]
    }
   ],
   "source": [
    " import winreg\n",
    "access_registry = winreg.ConnectRegistry(None,winreg.HKEY_LOCAL_MACHINE)\n",
    "access_key = winreg.OpenKey(access_registry,r\"SYSTEM\\CurrentControlSet\\ENUM\\USBSTOR\\Disk&Ven_hp&Prod_v220w&Rev_1100\")\n",
    "for n in range(20):\n",
    "    try:\n",
    "        x =winreg.EnumKey(access_key,n)\n",
    "        print(x)\n",
    "    except:\n",
    "        break\n"
   ]
  }
 ],
 "metadata": {
  "kernelspec": {
   "display_name": "Python 3",
   "language": "python",
   "name": "python3"
  },
  "language_info": {
   "codemirror_mode": {
    "name": "ipython",
    "version": 3
   },
   "file_extension": ".py",
   "mimetype": "text/x-python",
   "name": "python",
   "nbconvert_exporter": "python",
   "pygments_lexer": "ipython3",
   "version": "3.7.6"
  }
 },
 "nbformat": 4,
 "nbformat_minor": 2
}
