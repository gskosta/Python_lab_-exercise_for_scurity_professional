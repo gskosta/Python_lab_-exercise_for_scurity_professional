{
 "cells": [
  {
   "cell_type": "markdown",
   "metadata": {},
   "source": [
    "# <p style=\"text-align: center;\">**Exercise**</p>"
   ]
  },
  {
   "cell_type": "markdown",
   "metadata": {},
   "source": [
    "## **Aim**: Write Python programs for Python RegEx.\n"
   ]
  },
  {
   "cell_type": "code",
   "execution_count": 1,
   "metadata": {},
   "outputs": [],
   "source": [
    "import re"
   ]
  },
  {
   "cell_type": "markdown",
   "metadata": {},
   "source": [
    "## 1. Use RegEx to check that a string contains only a certain set of characters."
   ]
  },
  {
   "cell_type": "code",
   "execution_count": 2,
   "metadata": {},
   "outputs": [
    {
     "name": "stdout",
     "output_type": "stream",
     "text": [
      "<re.Match object; span=(0, 17), match='The rain in Spain'>\n",
      "['in', 'in', 'in']\n",
      "['T', 'S']\n",
      "['4', '9', '5', '6', '7', '1'] ['9', '5', '1']\n"
     ]
    }
   ],
   "source": [
    "txt = \"The rain in Spain\"\n",
    "x = re.search(\"^The.*Spain$\", txt)\n",
    "print(x)\n",
    "x=re.findall(\"in\", txt)\n",
    "print(x)\n",
    "x = re.findall(\"[A-Z]\", txt)\n",
    "print(x)\n",
    "txt = \"The pin code of chapma - 495671\"\n",
    "x=re.findall(\"[0-9]\",txt)\n",
    "x1=re.findall(\"[159]\",txt)\n",
    "print(x,x1)"
   ]
  },
  {
   "cell_type": "code",
   "execution_count": 8,
   "metadata": {},
   "outputs": [
    {
     "name": "stdout",
     "output_type": "stream",
     "text": [
      "Associate Dean: Dr. Amandeep Kaur\n"
     ]
    }
   ],
   "source": [
    "fl = open(r\"C:\\Users\\james\\Downloads\\python lab\\Lab 8 reguler Expression\\cupb.txt\")\n",
    "for line in fl:\n",
    "    if re.search(r\"i[ab]\",line):\n",
    "        print(line.rstrip())\n",
    "fl.close()"
   ]
  },
  {
   "cell_type": "markdown",
   "metadata": {},
   "source": [
    "## 2. Use RegEx to spliting and subtitution in strings."
   ]
  },
  {
   "cell_type": "code",
   "execution_count": 3,
   "metadata": {},
   "outputs": [
    {
     "name": "stdout",
     "output_type": "stream",
     "text": [
      "['The ra', ' ', ' Spa', '']\n",
      "\n",
      "10\n",
      "20\n",
      "30\n"
     ]
    }
   ],
   "source": [
    "txt = \"The rain in Spain\"\n",
    "x=re.split(\"in\", txt)\n",
    "print(x)\n",
    "txt = \"Ten 10, Twenty 20, Thirty 30\"\n",
    "res = re.split(\"\\D+\", txt)\n",
    "for nums in res:\n",
    "    print(nums)"
   ]
  },
  {
   "cell_type": "code",
   "execution_count": 9,
   "metadata": {},
   "outputs": [
    {
     "name": "stdout",
     "output_type": "stream",
     "text": [
      "The rase se Spase\n"
     ]
    }
   ],
   "source": [
    "txt = \"The rain in Spain\"\n",
    "x=re.sub(\"in\", \"se\", txt)\n",
    "print(x)"
   ]
  },
  {
   "cell_type": "markdown",
   "metadata": {},
   "source": [
    "## 3. Write a Python program to find urls from input string."
   ]
  },
  {
   "cell_type": "code",
   "execution_count": 6,
   "metadata": {},
   "outputs": [
    {
     "name": "stdout",
     "output_type": "stream",
     "text": [
      "Enter string which contain URl: the url of central university of punjab is http://cup.edu.in and for homepage is http://cup.edu.in/index_home.php and the url of CST department is http://cup.edu.in/centre_cst.php\n",
      "\n",
      "Entered string:  the url of central university of punjab is http://cup.edu.in and for homepage is http://cup.edu.in/index_home.php and the url of CST department is http://cup.edu.in/centre_cst.php\n",
      "\n",
      "Urls in your Entered string:  ['http://cup.edu.in', 'http://cup.edu.in/index_home.php', 'http://cup.edu.in/centre_cst.php']\n"
     ]
    }
   ],
   "source": [
    "Str = input('Enter string which contain URl: ',)\n",
    "urls = re.findall('http[s]?://(?:[a-zA-Z]|[0-9]|[$-_@.&+]|[!*\\(\\),]|(?:%[0-9a-fA-F][0-9a-fA-F]))+', Str)\n",
    "print(\"\\nEntered string: \",Str)\n",
    "print(\"\\nUrls in your Entered string: \",urls)\n"
   ]
  },
  {
   "cell_type": "markdown",
   "metadata": {},
   "source": [
    "## 4. Write a Python program to find IPs from input string."
   ]
  },
  {
   "cell_type": "code",
   "execution_count": 4,
   "metadata": {},
   "outputs": [
    {
     "name": "stdout",
     "output_type": "stream",
     "text": [
      "Enter string which contain IP address: IPv4 address ranges are reserved by the IANA for private internets, and are not publicly routable on the global internet:  10.0.0.0/8 IP addresses: 10.0.0.0 – 10.255.255.255\n",
      "\n",
      "Entered string:  IPv4 address ranges are reserved by the IANA for private internets, and are not publicly routable on the global internet:  10.0.0.0/8 IP addresses: 10.0.0.0 – 10.255.255.255\n",
      "\n",
      "IP's in your Entered string:  ['10.0.0.0', '10.0.0.0', '10.255.255.255']\n"
     ]
    }
   ],
   "source": [
    "import re\n",
    "Str = input('Enter string which contain IP address: ',)\n",
    "ips =  re.findall( r'[0-9]+(?:\\.[0-9]+){3}', Str )\n",
    "print(\"\\nEntered string: \",Str)\n",
    "print(\"\\nIP's in your Entered string: \",ips)\n"
   ]
  },
  {
   "cell_type": "markdown",
   "metadata": {},
   "source": [
    "## 5. Write a Python program to validate postel code."
   ]
  },
  {
   "cell_type": "code",
   "execution_count": 5,
   "metadata": {},
   "outputs": [
    {
     "name": "stdout",
     "output_type": "stream",
     "text": [
      "Post code to verify: W12 7RJ\n",
      "W12 7RJ \n",
      "is a valid postcode\n"
     ]
    }
   ],
   "source": [
    "import re\n",
    "pc = input(\"Post code to verify: \") \n",
    "\n",
    "pc_re = r\"[A-z]{1,2}[0-9R][0-9A-Z]? [0-9][ABD-HJLNP-UW-Z]{2}\"\n",
    "r = re.search(pc_re, pc)\n",
    "if r:\n",
    "    print(pc + \" \\nis a valid postcode\")\n",
    "else:\n",
    "    print(pc + \" \\nis not a valid postcode!\")        "
   ]
  }
 ],
 "metadata": {
  "kernelspec": {
   "display_name": "Python 3",
   "language": "python",
   "name": "python3"
  },
  "language_info": {
   "codemirror_mode": {
    "name": "ipython",
    "version": 3
   },
   "file_extension": ".py",
   "mimetype": "text/x-python",
   "name": "python",
   "nbconvert_exporter": "python",
   "pygments_lexer": "ipython3",
   "version": "3.7.6"
  }
 },
 "nbformat": 4,
 "nbformat_minor": 2
}
