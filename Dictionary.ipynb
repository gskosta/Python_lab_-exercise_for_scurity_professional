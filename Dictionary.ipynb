{
 "cells": [
  {
   "cell_type": "markdown",
   "metadata": {},
   "source": [
    "# **<p style=\"text-align: center;\">Exercise</p>**"
   ]
  },
  {
   "cell_type": "markdown",
   "metadata": {},
   "source": [
    "## **Aim:** Write a Python script perform following tasks."
   ]
  },
  {
   "cell_type": "markdown",
   "metadata": {},
   "source": [
    "## 1.Write a Python script to print elements of dictionary in sorted (ascending and descending)order(sorted by key)"
   ]
  },
  {
   "cell_type": "code",
   "execution_count": 2,
   "metadata": {},
   "outputs": [
    {
     "name": "stdout",
     "output_type": "stream",
     "text": [
      "{'i': 1, 'k': 5, 'l': 7, 'g': 9, 's': 6, 'd': 8}\n"
     ]
    }
   ],
   "source": [
    "dic = { \"i\":1,\"k\":5,\"l\":7,\"g\":9,\"s\":6,\"d\":8}\n",
    "print(dic)"
   ]
  },
  {
   "cell_type": "code",
   "execution_count": 27,
   "metadata": {},
   "outputs": [
    {
     "name": "stdout",
     "output_type": "stream",
     "text": [
      "d 8\n",
      "g 9\n",
      "i 1\n",
      "k 5\n",
      "l 7\n",
      "s 6\n"
     ]
    }
   ],
   "source": [
    "for x in sorted(dic.keys()) :\n",
    "    print(x , dic[x])"
   ]
  },
  {
   "cell_type": "code",
   "execution_count": 29,
   "metadata": {},
   "outputs": [
    {
     "name": "stdout",
     "output_type": "stream",
     "text": [
      "s 6\n",
      "l 7\n",
      "k 5\n",
      "i 1\n",
      "g 9\n",
      "d 8\n"
     ]
    }
   ],
   "source": [
    "for x in sorted(dic.keys(), reverse = True) :\n",
    "    print(x , dic[x])"
   ]
  },
  {
   "cell_type": "markdown",
   "metadata": {},
   "source": [
    "## 2.Write a Python script to generate and print a dictionary that contains a number (between 1 and n) in the form (x, x*x). Go to the editor Sample Dictionary ( n = 5) : Expected Output : {1: 1, 2: 4, 3: 9, 4: 16, 5: 25}"
   ]
  },
  {
   "cell_type": "code",
   "execution_count": 40,
   "metadata": {},
   "outputs": [
    {
     "name": "stdout",
     "output_type": "stream",
     "text": [
      "{1: 1, 2: 4, 3: 9, 4: 16, 5: 25}\n"
     ]
    }
   ],
   "source": [
    "n=5\n",
    "d = dict()\n",
    "\n",
    "for x in range(1,n+1):\n",
    "    d[x]=x*x\n",
    "\n",
    "print(d) "
   ]
  },
  {
   "cell_type": "markdown",
   "metadata": {},
   "source": [
    "## 3. Write a Python program to get the maximum and minimum value in a dictionary(Assuming all the values are numeric)."
   ]
  },
  {
   "cell_type": "code",
   "execution_count": 41,
   "metadata": {
    "scrolled": true
   },
   "outputs": [],
   "source": [
    "d = {'A': 5, 'B': 4, 'C': 9, 'D': 16, 'E': 25}"
   ]
  },
  {
   "cell_type": "code",
   "execution_count": 42,
   "metadata": {},
   "outputs": [
    {
     "name": "stdout",
     "output_type": "stream",
     "text": [
      "The Dictionary is:  {'A': 5, 'B': 4, 'C': 9, 'D': 16, 'E': 25}\n",
      "The key wich have maximum value is:  E\n"
     ]
    }
   ],
   "source": [
    "print('The Dictionary is: ',d)\n",
    "print('The key wich have maximum value is: ',max(d, key=d.get))"
   ]
  },
  {
   "cell_type": "code",
   "execution_count": 43,
   "metadata": {},
   "outputs": [
    {
     "name": "stdout",
     "output_type": "stream",
     "text": [
      "The Dictionary is:  {'A': 5, 'B': 4, 'C': 9, 'D': 16, 'E': 25}\n",
      "The key wich have minimum value is:  B\n"
     ]
    }
   ],
   "source": [
    "print('The Dictionary is: ',d)\n",
    "print('The key wich have minimum value is: ',min(d, key=d.get))"
   ]
  },
  {
   "cell_type": "code",
   "execution_count": 1,
   "metadata": {},
   "outputs": [
    {
     "name": "stdout",
     "output_type": "stream",
     "text": [
      "{'the': 2, 'quick': 1, 'brown': 1, 'fox': 1, 'jumps': 1, 'over': 1, 'lazy': 1, 'dog.': 1}\n"
     ]
    }
   ],
   "source": [
    "def word_count(str):\n",
    "    counts = dict()\n",
    "    words = str.split()\n",
    "\n",
    "    for word in words:\n",
    "        if word in counts:\n",
    "            counts[word] += 1\n",
    "        else:\n",
    "            counts[word] = 1\n",
    "\n",
    "    return counts\n",
    "\n",
    "print( word_count('the quick brown fox jumps over the lazy dog.'))\n"
   ]
  },
  {
   "cell_type": "markdown",
   "metadata": {},
   "source": [
    "## 4. write a python programm that count the occurence of the character without using dictionary  "
   ]
  },
  {
   "cell_type": "code",
   "execution_count": 4,
   "metadata": {},
   "outputs": [
    {
     "name": "stdout",
     "output_type": "stream",
     "text": [
      "Please enter your own String : kostakosrtakosta\n",
      "Please enter your own Character : k\n",
      "The total Number of Times charecter is occuered:  3\n"
     ]
    }
   ],
   "source": [
    "def occurence(c, s):\n",
    "    g = 0\n",
    "    for i in range(len(s)):\n",
    "        if(s[i] == c):\n",
    "            g = g + 1\n",
    "    return g\n",
    "    \n",
    "\n",
    "s = input(\"Please enter your own String : \")\n",
    "c = input(\"Please enter your own Character : \")\n",
    "\n",
    "k = occurence(c, s)\n",
    "print(\"The total Number of Times charecter is occuered: \", k)"
   ]
  }
 ],
 "metadata": {
  "kernelspec": {
   "display_name": "Python 3",
   "language": "python",
   "name": "python3"
  },
  "language_info": {
   "codemirror_mode": {
    "name": "ipython",
    "version": 3
   },
   "file_extension": ".py",
   "mimetype": "text/x-python",
   "name": "python",
   "nbconvert_exporter": "python",
   "pygments_lexer": "ipython3",
   "version": "3.7.6"
  }
 },
 "nbformat": 4,
 "nbformat_minor": 2
}
