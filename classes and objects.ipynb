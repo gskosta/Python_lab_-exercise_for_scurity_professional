{
 "cells": [
  {
   "cell_type": "markdown",
   "metadata": {},
   "source": [
    "# <p style=\"text-align: center;\">**Exercise**</p>"
   ]
  },
  {
   "cell_type": "markdown",
   "metadata": {},
   "source": [
    "## **Aim**: Write Python programs for Python classes and objects."
   ]
  },
  {
   "cell_type": "markdown",
   "metadata": {},
   "source": [
    "## 1. Write a Python class that convert lower case tring into upper case string"
   ]
  },
  {
   "cell_type": "code",
   "execution_count": 4,
   "metadata": {},
   "outputs": [
    {
     "name": "stdout",
     "output_type": "stream",
     "text": [
      "Enter string: central university of punjab\n",
      "\n",
      "String after conversion:  CENTRAL UNIVERSITY OF PUNJAB\n"
     ]
    }
   ],
   "source": [
    "class IOStr():\n",
    "    def __init__(self):\n",
    "        self.str1 = \"\"\n",
    "\n",
    "    def get_Str(self):\n",
    "        self.str1 = input('Enter string: ')\n",
    "\n",
    "    def print_Str(self):\n",
    "        print('\\nString after conversion: ',self.str1.upper())\n",
    "\n",
    "str1 = IOStr()\n",
    "str1.get_Str()\n",
    "str1.print_Str()"
   ]
  },
  {
   "cell_type": "markdown",
   "metadata": {},
   "source": [
    "## 2. Write a Python class Circle constructed with a radius which will compute the area and the perimeter of a circle."
   ]
  },
  {
   "cell_type": "code",
   "execution_count": 7,
   "metadata": {},
   "outputs": [
    {
     "name": "stdout",
     "output_type": "stream",
     "text": [
      "Enter the radius of the circle to calculate area 12\n",
      "\n",
      "The area of the circle is: 452.16\n",
      "\n",
      "The parimeter of the circle is:  75.36\n"
     ]
    }
   ],
   "source": [
    " class Circle():\n",
    "    def __init__(self, r):\n",
    "        self.radius = r\n",
    "\n",
    "    def area(self):\n",
    "        return self.radius**2*3.14\n",
    "    \n",
    "    def perimeter(self):\n",
    "        return 2*self.radius*3.14\n",
    "g=int(input('Enter the radius of the circle to calculate area: '))\n",
    "NewCircle = Circle(g)\n",
    "print('\\nThe area of the circle is:', NewCircle.area())\n",
    "print('\\nThe parimeter of the circle is: ',NewCircle.perimeter())"
   ]
  },
  {
   "cell_type": "markdown",
   "metadata": {},
   "source": [
    "## 3. Write a Python class ComplexNumber to print complex number from given input."
   ]
  },
  {
   "cell_type": "code",
   "execution_count": 4,
   "metadata": {},
   "outputs": [
    {
     "name": "stdout",
     "output_type": "stream",
     "text": [
      "Enter Number for real part: 5\n",
      "\n",
      "Enter Number for imgenary part: \n",
      "\n",
      "The complex unmber is:\n",
      "5+j\n"
     ]
    }
   ],
   "source": [
    "class ComplexNumber:\n",
    "    def __init__(self,r = 0,i = 0):\n",
    "        self.real = r\n",
    "        self.imag = i\n",
    "\n",
    "    def getData(self):\n",
    "        print(\"{0}+{1}j\".format(self.real,self.imag))\n",
    "g=input('Enter Number for real part: ')\n",
    "s=input('\\nEnter Number for imgenary part: ')\n",
    "print('\\nThe complex unmber is:')\n",
    "c1 = ComplexNumber(g,s)\n",
    "\n",
    "c1.getData()\n"
   ]
  },
  {
   "cell_type": "markdown",
   "metadata": {},
   "source": [
    "## 4. Write a Python class to display student result."
   ]
  },
  {
   "cell_type": "code",
   "execution_count": 1,
   "metadata": {},
   "outputs": [
    {
     "name": "stdout",
     "output_type": "stream",
     "text": [
      "English: 43\n",
      "Hindi: 43\n",
      "Punjabi: 50\n",
      "Name of Student: mitesh\n",
      "Pass\n",
      "Pass\n",
      "Pass\n"
     ]
    }
   ],
   "source": [
    "class Student():\n",
    "    def details(self,mark1,mark2,mark3,name):\n",
    "        self.m1=mark1\n",
    "        self.m2=mark1\n",
    "        self.m3=mark3\n",
    "        self.n=name\n",
    "\n",
    "\n",
    "    def _print(self):\n",
    "        print('English:',self.m1)\n",
    "        print('Hindi:',self.m2)\n",
    "        print('Punjabi:',self.m3)\n",
    "        print('Name of Student:',self.n)\n",
    "\n",
    "    def loop(self,passmark=40):\n",
    "        self.pm=passmark\n",
    "        if(self.m1>=self.pm):\n",
    "            print( 'Pass')\n",
    "        else:\n",
    "            print( 'Fail')\n",
    "            \n",
    "        if(self.m2>=self.pm):\n",
    "            print( 'Pass')\n",
    "        else:\n",
    "            print( 'Fail')\n",
    "        \n",
    "        if(self.m3>=self.pm):\n",
    "            print( 'Pass')\n",
    "        else:\n",
    "            print( 'Fail')\n",
    "\n",
    "s=Student()\n",
    "\n",
    "s.details( 43,45,50, 'mitesh')\n",
    "\n",
    "s._print()\n",
    "s.loop()"
   ]
  },
  {
   "cell_type": "markdown",
   "metadata": {},
   "source": [
    "## Write a Python class to check my breackfast items."
   ]
  },
  {
   "cell_type": "code",
   "execution_count": 14,
   "metadata": {},
   "outputs": [],
   "source": [
    "class List(object):\n",
    "    List = ['bread','fruit','milk','coffee']\n",
    "    \n",
    "    def __init__(self,breakfast='apple'):\n",
    "        self.breakfast=breakfast\n",
    "        \n",
    "    def __str__(self):\n",
    "        return 'List:{}'.format(','.join(self.List))\n",
    "    \n",
    "    def in_List(self,item):\n",
    "        if item in self.List:\n",
    "            return 'you have it!'\n",
    "        else:\n",
    "            return 'bad luck!'\n",
    "        \n",
    "    def breakfast_check(self):\n",
    "        return self.breakfast in self.List"
   ]
  },
  {
   "cell_type": "code",
   "execution_count": 15,
   "metadata": {},
   "outputs": [
    {
     "data": {
      "text/plain": [
       "True"
      ]
     },
     "execution_count": 15,
     "metadata": {},
     "output_type": "execute_result"
    }
   ],
   "source": [
    "morning =List('bread')\n",
    "morning.breakfast_check()"
   ]
  },
  {
   "cell_type": "code",
   "execution_count": null,
   "metadata": {},
   "outputs": [],
   "source": []
  }
 ],
 "metadata": {
  "kernelspec": {
   "display_name": "Python 3",
   "language": "python",
   "name": "python3"
  },
  "language_info": {
   "codemirror_mode": {
    "name": "ipython",
    "version": 3
   },
   "file_extension": ".py",
   "mimetype": "text/x-python",
   "name": "python",
   "nbconvert_exporter": "python",
   "pygments_lexer": "ipython3",
   "version": "3.7.6"
  }
 },
 "nbformat": 4,
 "nbformat_minor": 2
}
