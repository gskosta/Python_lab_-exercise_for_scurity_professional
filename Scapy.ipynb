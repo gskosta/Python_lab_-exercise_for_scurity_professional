{
 "cells": [
  {
   "cell_type": "markdown",
   "metadata": {},
   "source": [
    "# <p style=\"text-align: center;\">**Exercise**</p>"
   ]
  },
  {
   "cell_type": "markdown",
   "metadata": {},
   "source": [
    "## **Aim**: Explore pythons's Scapy module."
   ]
  },
  {
   "cell_type": "markdown",
   "metadata": {},
   "source": [
    "### 1.Installation:"
   ]
  },
  {
   "cell_type": "code",
   "execution_count": 1,
   "metadata": {},
   "outputs": [
    {
     "name": "stdout",
     "output_type": "stream",
     "text": [
      "Requirement already satisfied: scapy in c:\\users\\james\\anaconda3\\lib\\site-packages (2.4.3)\n",
      "Note: you may need to restart the kernel to use updated packages.\n"
     ]
    }
   ],
   "source": [
    "pip install --pre scapy"
   ]
  },
  {
   "cell_type": "code",
   "execution_count": 3,
   "metadata": {},
   "outputs": [],
   "source": [
    "from scapy.all import *"
   ]
  },
  {
   "cell_type": "code",
   "execution_count": 4,
   "metadata": {},
   "outputs": [
    {
     "name": "stdout",
     "output_type": "stream",
     "text": [
      "###[ IP ]### \n",
      "  version   = 4\n",
      "  ihl       = None\n",
      "  tos       = 0x0\n",
      "  len       = None\n",
      "  id        = 1\n",
      "  flags     = \n",
      "  frag      = 0\n",
      "  ttl       = 64\n",
      "  proto     = ip\n",
      "  chksum    = None\n",
      "  src       = 192.168.1.103\n",
      "  dst       = 127.0.0.1\n",
      "  \\options   \\\n",
      "\n"
     ]
    }
   ],
   "source": [
    "ip = IP()\n",
    "ip.show()"
   ]
  },
  {
   "cell_type": "markdown",
   "metadata": {},
   "source": [
    "### 2. Transmitting packets:"
   ]
  },
  {
   "cell_type": "code",
   "execution_count": 5,
   "metadata": {},
   "outputs": [],
   "source": [
    "conf.verb=1\n",
    "conf.color_theme = RastaTheme()\n"
   ]
  },
  {
   "cell_type": "code",
   "execution_count": 6,
   "metadata": {},
   "outputs": [
    {
     "data": {
      "text/plain": [
       "\u001b[31m<\u001b[0m\u001b[32m\u001b[1m\u001b[31m\u001b[1mEther\u001b[0m\u001b[32m\u001b[1m  \u001b[33m\u001b[1mtype\u001b[0m\u001b[32m\u001b[1m\u001b[31m=\u001b[0m\u001b[32m\u001b[1m\u001b[32m\u001b[1mIPv4\u001b[0m\u001b[32m\u001b[1m \u001b[31m|\u001b[0m\u001b[32m\u001b[1m\u001b[31m<\u001b[0m\u001b[32m\u001b[1m\u001b[31m\u001b[1mIP\u001b[0m\u001b[32m\u001b[1m  \u001b[33m\u001b[1mfrag\u001b[0m\u001b[32m\u001b[1m\u001b[31m=\u001b[0m\u001b[32m\u001b[1m\u001b[32m\u001b[1m0\u001b[0m\u001b[32m\u001b[1m \u001b[33m\u001b[1mproto\u001b[0m\u001b[32m\u001b[1m\u001b[31m=\u001b[0m\u001b[32m\u001b[1m\u001b[32m\u001b[1m4\u001b[0m\u001b[32m\u001b[1m \u001b[31m|\u001b[0m\u001b[32m\u001b[1m\u001b[31m<\u001b[0m\u001b[32m\u001b[1m\u001b[31m\u001b[1mIP\u001b[0m\u001b[32m\u001b[1m  \u001b[33m\u001b[1mfrag\u001b[0m\u001b[32m\u001b[1m\u001b[31m=\u001b[0m\u001b[32m\u001b[1m\u001b[32m\u001b[1m0\u001b[0m\u001b[32m\u001b[1m \u001b[33m\u001b[1mproto\u001b[0m\u001b[32m\u001b[1m\u001b[31m=\u001b[0m\u001b[32m\u001b[1m\u001b[32m\u001b[1mudp\u001b[0m\u001b[32m\u001b[1m \u001b[31m|\u001b[0m\u001b[32m\u001b[1m\u001b[31m<\u001b[0m\u001b[32m\u001b[1m\u001b[31m\u001b[1mUDP\u001b[0m\u001b[32m\u001b[1m  \u001b[31m|\u001b[0m\u001b[32m\u001b[1m\u001b[31m>\u001b[0m\u001b[32m\u001b[1m\u001b[31m>\u001b[0m\u001b[32m\u001b[1m\u001b[31m>\u001b[0m\u001b[32m\u001b[1m\u001b[31m>\u001b[0m\u001b[32m\u001b[1m"
      ]
     },
     "execution_count": 6,
     "metadata": {},
     "output_type": "execute_result"
    }
   ],
   "source": [
    "Ether()/IP()/IP()/UDP()"
   ]
  },
  {
   "cell_type": "code",
   "execution_count": 7,
   "metadata": {},
   "outputs": [
    {
     "data": {
      "text/plain": [
       "\u001b[31m<\u001b[0m\u001b[32m\u001b[1m\u001b[31m\u001b[1mIP\u001b[0m\u001b[32m\u001b[1m  \u001b[33m\u001b[1mfrag\u001b[0m\u001b[32m\u001b[1m\u001b[31m=\u001b[0m\u001b[32m\u001b[1m\u001b[32m\u001b[1m0\u001b[0m\u001b[32m\u001b[1m \u001b[33m\u001b[1mproto\u001b[0m\u001b[32m\u001b[1m\u001b[31m=\u001b[0m\u001b[32m\u001b[1m\u001b[32m\u001b[1m55\u001b[0m\u001b[32m\u001b[1m \u001b[31m|\u001b[0m\u001b[32m\u001b[1m\u001b[31m<\u001b[0m\u001b[32m\u001b[1m\u001b[31m\u001b[1mTCP\u001b[0m\u001b[32m\u001b[1m  \u001b[33m\u001b[1mdport\u001b[0m\u001b[32m\u001b[1m\u001b[31m=\u001b[0m\u001b[32m\u001b[1m\u001b[32m\u001b[1mssh\u001b[0m\u001b[32m\u001b[1m \u001b[31m|\u001b[0m\u001b[32m\u001b[1m\u001b[31m>\u001b[0m\u001b[32m\u001b[1m\u001b[31m>\u001b[0m\u001b[32m\u001b[1m"
      ]
     },
     "execution_count": 7,
     "metadata": {},
     "output_type": "execute_result"
    }
   ],
   "source": [
    "IP(proto=55)/TCP(dport=22)\n"
   ]
  },
  {
   "cell_type": "code",
   "execution_count": 19,
   "metadata": {},
   "outputs": [
    {
     "name": "stdout",
     "output_type": "stream",
     "text": [
      "\u001b[31m###[\u001b[0m\u001b[32m\u001b[1m \u001b[31m\u001b[1mEthernet\u001b[0m\u001b[32m\u001b[1m \u001b[31m]###\u001b[0m\u001b[32m\u001b[1m \n",
      "  \u001b[33m\u001b[1mdst\u001b[0m\u001b[32m\u001b[1m\u001b[31m=\u001b[0m\u001b[32m\u001b[1m \u001b[32m\u001b[1mc8:d7:79:9f:fe:fd\u001b[0m\u001b[32m\u001b[1m\n",
      "  \u001b[33m\u001b[1msrc\u001b[0m\u001b[32m\u001b[1m\u001b[31m=\u001b[0m\u001b[32m\u001b[1m \u001b[32m\u001b[1mfc:de:56:ff:01:06\u001b[0m\u001b[32m\u001b[1m\n",
      "  \u001b[33m\u001b[1mtype\u001b[0m\u001b[32m\u001b[1m\u001b[31m=\u001b[0m\u001b[32m\u001b[1m \u001b[32m\u001b[1mARP\u001b[0m\u001b[32m\u001b[1m\n",
      "\u001b[31m###[\u001b[0m\u001b[32m\u001b[1m \u001b[31m\u001b[1mARP\u001b[0m\u001b[32m\u001b[1m \u001b[31m]###\u001b[0m\u001b[32m\u001b[1m \n",
      "     \u001b[33m\u001b[1mhwtype\u001b[0m\u001b[32m\u001b[1m\u001b[31m=\u001b[0m\u001b[32m\u001b[1m \u001b[32m\u001b[1m0x1\u001b[0m\u001b[32m\u001b[1m\n",
      "     \u001b[33m\u001b[1mptype\u001b[0m\u001b[32m\u001b[1m\u001b[31m=\u001b[0m\u001b[32m\u001b[1m \u001b[32m\u001b[1mIPv4\u001b[0m\u001b[32m\u001b[1m\n",
      "     \u001b[33m\u001b[1mhwlen\u001b[0m\u001b[32m\u001b[1m\u001b[31m=\u001b[0m\u001b[32m\u001b[1m \u001b[32m\u001b[1mNone\u001b[0m\u001b[32m\u001b[1m\n",
      "     \u001b[33m\u001b[1mplen\u001b[0m\u001b[32m\u001b[1m\u001b[31m=\u001b[0m\u001b[32m\u001b[1m \u001b[32m\u001b[1mNone\u001b[0m\u001b[32m\u001b[1m\n",
      "     \u001b[33m\u001b[1mop\u001b[0m\u001b[32m\u001b[1m\u001b[31m=\u001b[0m\u001b[32m\u001b[1m \u001b[32m\u001b[1mwho-has\u001b[0m\u001b[32m\u001b[1m\n",
      "     \u001b[33m\u001b[1mhwsrc\u001b[0m\u001b[32m\u001b[1m\u001b[31m=\u001b[0m\u001b[32m\u001b[1m \u001b[32m\u001b[1mfc:de:56:ff:01:06\u001b[0m\u001b[32m\u001b[1m\n",
      "     \u001b[33m\u001b[1mpsrc\u001b[0m\u001b[32m\u001b[1m\u001b[31m=\u001b[0m\u001b[32m\u001b[1m \u001b[32m\u001b[1m192.168.1.103\u001b[0m\u001b[32m\u001b[1m\n",
      "     \u001b[33m\u001b[1mhwdst\u001b[0m\u001b[32m\u001b[1m\u001b[31m=\u001b[0m\u001b[32m\u001b[1m \u001b[32m\u001b[1m00:00:00:00:00:00\u001b[0m\u001b[32m\u001b[1m\n",
      "     \u001b[33m\u001b[1mpdst\u001b[0m\u001b[32m\u001b[1m\u001b[31m=\u001b[0m\u001b[32m\u001b[1m \u001b[32m\u001b[1m0.0.0.0\u001b[0m\u001b[32m\u001b[1m\n",
      "\n"
     ]
    }
   ],
   "source": [
    "#Build ARP packets\n",
    "arpPkt = Ether()/ARP()\n",
    "arpPkt.show()\n"
   ]
  },
  {
   "cell_type": "code",
   "execution_count": 18,
   "metadata": {},
   "outputs": [
    {
     "name": "stdout",
     "output_type": "stream",
     "text": [
      "\u001b[31m###[\u001b[0m\u001b[32m\u001b[1m \u001b[31m\u001b[1mEthernet\u001b[0m\u001b[32m\u001b[1m \u001b[31m]###\u001b[0m\u001b[32m\u001b[1m \n",
      "  \u001b[33m\u001b[1mdst\u001b[0m\u001b[32m\u001b[1m\u001b[31m=\u001b[0m\u001b[32m\u001b[1m \u001b[32m\u001b[1mFF:FF:FF:FF:FF:FF\u001b[0m\u001b[32m\u001b[1m\n",
      "  \u001b[33m\u001b[1msrc\u001b[0m\u001b[32m\u001b[1m\u001b[31m=\u001b[0m\u001b[32m\u001b[1m \u001b[32m\u001b[1mfc:de:56:ff:01:06\u001b[0m\u001b[32m\u001b[1m\n",
      "  \u001b[33m\u001b[1mtype\u001b[0m\u001b[32m\u001b[1m\u001b[31m=\u001b[0m\u001b[32m\u001b[1m \u001b[32m\u001b[1mARP\u001b[0m\u001b[32m\u001b[1m\n",
      "\u001b[31m###[\u001b[0m\u001b[32m\u001b[1m \u001b[31m\u001b[1mARP\u001b[0m\u001b[32m\u001b[1m \u001b[31m]###\u001b[0m\u001b[32m\u001b[1m \n",
      "     \u001b[33m\u001b[1mhwtype\u001b[0m\u001b[32m\u001b[1m\u001b[31m=\u001b[0m\u001b[32m\u001b[1m \u001b[32m\u001b[1m0x1\u001b[0m\u001b[32m\u001b[1m\n",
      "     \u001b[33m\u001b[1mptype\u001b[0m\u001b[32m\u001b[1m\u001b[31m=\u001b[0m\u001b[32m\u001b[1m \u001b[32m\u001b[1mIPv4\u001b[0m\u001b[32m\u001b[1m\n",
      "     \u001b[33m\u001b[1mhwlen\u001b[0m\u001b[32m\u001b[1m\u001b[31m=\u001b[0m\u001b[32m\u001b[1m \u001b[32m\u001b[1mNone\u001b[0m\u001b[32m\u001b[1m\n",
      "     \u001b[33m\u001b[1mplen\u001b[0m\u001b[32m\u001b[1m\u001b[31m=\u001b[0m\u001b[32m\u001b[1m \u001b[32m\u001b[1mNone\u001b[0m\u001b[32m\u001b[1m\n",
      "     \u001b[33m\u001b[1mop\u001b[0m\u001b[32m\u001b[1m\u001b[31m=\u001b[0m\u001b[32m\u001b[1m \u001b[32m\u001b[1mwho-has\u001b[0m\u001b[32m\u001b[1m\n",
      "     \u001b[33m\u001b[1mhwsrc\u001b[0m\u001b[32m\u001b[1m\u001b[31m=\u001b[0m\u001b[32m\u001b[1m \u001b[32m\u001b[1mfc:de:56:ff:01:06\u001b[0m\u001b[32m\u001b[1m\n",
      "     \u001b[33m\u001b[1mpsrc\u001b[0m\u001b[32m\u001b[1m\u001b[31m=\u001b[0m\u001b[32m\u001b[1m \u001b[32m\u001b[1m192.168.1.103\u001b[0m\u001b[32m\u001b[1m\n",
      "     \u001b[33m\u001b[1mhwdst\u001b[0m\u001b[32m\u001b[1m\u001b[31m=\u001b[0m\u001b[32m\u001b[1m \u001b[32m\u001b[1mFF:FF:FF:FF:FF:FF\u001b[0m\u001b[32m\u001b[1m\n",
      "     \u001b[33m\u001b[1mpdst\u001b[0m\u001b[32m\u001b[1m\u001b[31m=\u001b[0m\u001b[32m\u001b[1m \u001b[32m\u001b[1m0.0.0.0\u001b[0m\u001b[32m\u001b[1m\n",
      "\n"
     ]
    }
   ],
   "source": [
    "# Change Ethernet protocol's destination field to broadcase MAC address\n",
    "arpPkt['Ethernet'].dst= 'FF:FF:FF:FF:FF:FF'\n",
    "arpPkt.show()\n"
   ]
  },
  {
   "cell_type": "code",
   "execution_count": 17,
   "metadata": {},
   "outputs": [
    {
     "name": "stdout",
     "output_type": "stream",
     "text": [
      "\u001b[31m###[\u001b[0m\u001b[32m\u001b[1m \u001b[31m\u001b[1mEthernet\u001b[0m\u001b[32m\u001b[1m \u001b[31m]###\u001b[0m\u001b[32m\u001b[1m \n",
      "  \u001b[33m\u001b[1mdst\u001b[0m\u001b[32m\u001b[1m\u001b[31m=\u001b[0m\u001b[32m\u001b[1m \u001b[32m\u001b[1mc8:d7:79:9f:fe:fd\u001b[0m\u001b[32m\u001b[1m\n",
      "  \u001b[33m\u001b[1msrc\u001b[0m\u001b[32m\u001b[1m\u001b[31m=\u001b[0m\u001b[32m\u001b[1m \u001b[32m\u001b[1mfc:de:56:ff:01:06\u001b[0m\u001b[32m\u001b[1m\n",
      "  \u001b[33m\u001b[1mtype\u001b[0m\u001b[32m\u001b[1m\u001b[31m=\u001b[0m\u001b[32m\u001b[1m \u001b[32m\u001b[1mARP\u001b[0m\u001b[32m\u001b[1m\n",
      "\u001b[31m###[\u001b[0m\u001b[32m\u001b[1m \u001b[31m\u001b[1mARP\u001b[0m\u001b[32m\u001b[1m \u001b[31m]###\u001b[0m\u001b[32m\u001b[1m \n",
      "     \u001b[33m\u001b[1mhwtype\u001b[0m\u001b[32m\u001b[1m\u001b[31m=\u001b[0m\u001b[32m\u001b[1m \u001b[32m\u001b[1m0x1\u001b[0m\u001b[32m\u001b[1m\n",
      "     \u001b[33m\u001b[1mptype\u001b[0m\u001b[32m\u001b[1m\u001b[31m=\u001b[0m\u001b[32m\u001b[1m \u001b[32m\u001b[1mIPv4\u001b[0m\u001b[32m\u001b[1m\n",
      "     \u001b[33m\u001b[1mhwlen\u001b[0m\u001b[32m\u001b[1m\u001b[31m=\u001b[0m\u001b[32m\u001b[1m \u001b[32m\u001b[1mNone\u001b[0m\u001b[32m\u001b[1m\n",
      "     \u001b[33m\u001b[1mplen\u001b[0m\u001b[32m\u001b[1m\u001b[31m=\u001b[0m\u001b[32m\u001b[1m \u001b[32m\u001b[1mNone\u001b[0m\u001b[32m\u001b[1m\n",
      "     \u001b[33m\u001b[1mop\u001b[0m\u001b[32m\u001b[1m\u001b[31m=\u001b[0m\u001b[32m\u001b[1m \u001b[32m\u001b[1mwho-has\u001b[0m\u001b[32m\u001b[1m\n",
      "     \u001b[33m\u001b[1mhwsrc\u001b[0m\u001b[32m\u001b[1m\u001b[31m=\u001b[0m\u001b[32m\u001b[1m \u001b[32m\u001b[1mfc:de:56:ff:01:06\u001b[0m\u001b[32m\u001b[1m\n",
      "     \u001b[33m\u001b[1mpsrc\u001b[0m\u001b[32m\u001b[1m\u001b[31m=\u001b[0m\u001b[32m\u001b[1m \u001b[32m\u001b[1m192.168.1.103\u001b[0m\u001b[32m\u001b[1m\n",
      "     \u001b[33m\u001b[1mhwdst\u001b[0m\u001b[32m\u001b[1m\u001b[31m=\u001b[0m\u001b[32m\u001b[1m \u001b[32m\u001b[1mFF:FF:FF:FF:FF:FF\u001b[0m\u001b[32m\u001b[1m\n",
      "     \u001b[33m\u001b[1mpdst\u001b[0m\u001b[32m\u001b[1m\u001b[31m=\u001b[0m\u001b[32m\u001b[1m \u001b[32m\u001b[1m0.0.0.0\u001b[0m\u001b[32m\u001b[1m\n",
      "\n"
     ]
    }
   ],
   "source": [
    "# change ARP protocol's hwdst to broadcast MAC address\n",
    "#arpPkt['Ethernet']['ARP'].hwdst = 'FF:FF:FF:FF:FF:FF'\n",
    "arpPkt['ARP'].hwdst = 'FF:FF:FF:FF:FF:FF'\n",
    "arpPkt.show()\n"
   ]
  },
  {
   "cell_type": "code",
   "execution_count": 11,
   "metadata": {},
   "outputs": [
    {
     "name": "stdout",
     "output_type": "stream",
     "text": [
      "\n",
      "Sent 1 packets.\n"
     ]
    }
   ],
   "source": [
    "sendp(arpPkt)\n"
   ]
  },
  {
   "cell_type": "code",
   "execution_count": 12,
   "metadata": {},
   "outputs": [
    {
     "data": {
      "text/plain": [
       "b'E\\x00\\x00D\\x00\\x01\\x00\\x00@\\x06\\x82\\xc9\\xc0\\xa8\\x01g]\\xb8\\xd8\"\\x00\\x14\\x00P\\x00\\x00\\x00\\x00\\x00\\x00\\x00\\x00P\\x02 \\x00\\xd5\\xbb\\x00\\x00GET /index.html HTTP/1.1\\r\\n\\r\\n'"
      ]
     },
     "execution_count": 12,
     "metadata": {},
     "output_type": "execute_result"
    }
   ],
   "source": [
    "#Sending HTTP request\n",
    "httpPkt = IP(dst=\"example.com\")/TCP(dport=80)/\"GET /index.html HTTP/1.1\\r\\n\\r\\n\"\n",
    "bytes(httpPkt)"
   ]
  },
  {
   "cell_type": "code",
   "execution_count": 13,
   "metadata": {},
   "outputs": [
    {
     "name": "stdout",
     "output_type": "stream",
     "text": [
      "0000  45 00 00 44 00 01 00 00 40 06 82 C9 C0 A8 01 67  E\u001b[32m.\u001b[0m\u001b[32m\u001b[1m\u001b[32m.\u001b[0m\u001b[32m\u001b[1mD\u001b[32m.\u001b[0m\u001b[32m\u001b[1m\u001b[32m.\u001b[0m\u001b[32m\u001b[1m\u001b[32m.\u001b[0m\u001b[32m\u001b[1m\u001b[32m.\u001b[0m\u001b[32m\u001b[1m@\u001b[32m.\u001b[0m\u001b[32m\u001b[1m\u001b[32m.\u001b[0m\u001b[32m\u001b[1m\u001b[32m.\u001b[0m\u001b[32m\u001b[1m\u001b[32m.\u001b[0m\u001b[32m\u001b[1m\u001b[32m.\u001b[0m\u001b[32m\u001b[1m\u001b[32m.\u001b[0m\u001b[32m\u001b[1mg\n",
      "0010  5D B8 D8 22 00 14 00 50 00 00 00 00 00 00 00 00  ]\u001b[32m.\u001b[0m\u001b[32m\u001b[1m\u001b[32m.\u001b[0m\u001b[32m\u001b[1m\"\u001b[32m.\u001b[0m\u001b[32m\u001b[1m\u001b[32m.\u001b[0m\u001b[32m\u001b[1m\u001b[32m.\u001b[0m\u001b[32m\u001b[1mP\u001b[32m.\u001b[0m\u001b[32m\u001b[1m\u001b[32m.\u001b[0m\u001b[32m\u001b[1m\u001b[32m.\u001b[0m\u001b[32m\u001b[1m\u001b[32m.\u001b[0m\u001b[32m\u001b[1m\u001b[32m.\u001b[0m\u001b[32m\u001b[1m\u001b[32m.\u001b[0m\u001b[32m\u001b[1m\u001b[32m.\u001b[0m\u001b[32m\u001b[1m\u001b[32m.\u001b[0m\u001b[32m\u001b[1m\n",
      "0020  50 02 20 00 D5 BB 00 00 47 45 54 20 2F 69 6E 64  P\u001b[32m.\u001b[0m\u001b[32m\u001b[1m \u001b[32m.\u001b[0m\u001b[32m\u001b[1m\u001b[32m.\u001b[0m\u001b[32m\u001b[1m\u001b[32m.\u001b[0m\u001b[32m\u001b[1m\u001b[32m.\u001b[0m\u001b[32m\u001b[1m\u001b[32m.\u001b[0m\u001b[32m\u001b[1mGET /ind\n",
      "0030  65 78 2E 68 74 6D 6C 20 48 54 54 50 2F 31 2E 31  ex.html HTTP/1.1\n",
      "0040  0D 0A 0D 0A                                      \u001b[32m.\u001b[0m\u001b[32m\u001b[1m\u001b[32m.\u001b[0m\u001b[32m\u001b[1m\u001b[32m.\u001b[0m\u001b[32m\u001b[1m\u001b[32m.\u001b[0m\u001b[32m\u001b[1m\n"
     ]
    }
   ],
   "source": [
    "hexdump(httpPkt)\n"
   ]
  },
  {
   "cell_type": "code",
   "execution_count": 14,
   "metadata": {},
   "outputs": [
    {
     "name": "stdout",
     "output_type": "stream",
     "text": [
      "\u001b[31m###[\u001b[0m\u001b[32m\u001b[1m \u001b[31m\u001b[1mIP\u001b[0m\u001b[32m\u001b[1m \u001b[31m]###\u001b[0m\u001b[32m\u001b[1m \n",
      "  \u001b[33m\u001b[1mversion\u001b[0m\u001b[32m\u001b[1m\u001b[31m=\u001b[0m\u001b[32m\u001b[1m \u001b[32m\u001b[1m4\u001b[0m\u001b[32m\u001b[1m\n",
      "  \u001b[33m\u001b[1mihl\u001b[0m\u001b[32m\u001b[1m\u001b[31m=\u001b[0m\u001b[32m\u001b[1m \u001b[32m\u001b[1mNone\u001b[0m\u001b[32m\u001b[1m\n",
      "  \u001b[33m\u001b[1mtos\u001b[0m\u001b[32m\u001b[1m\u001b[31m=\u001b[0m\u001b[32m\u001b[1m \u001b[32m\u001b[1m0x0\u001b[0m\u001b[32m\u001b[1m\n",
      "  \u001b[33m\u001b[1mlen\u001b[0m\u001b[32m\u001b[1m\u001b[31m=\u001b[0m\u001b[32m\u001b[1m \u001b[32m\u001b[1mNone\u001b[0m\u001b[32m\u001b[1m\n",
      "  \u001b[33m\u001b[1mid\u001b[0m\u001b[32m\u001b[1m\u001b[31m=\u001b[0m\u001b[32m\u001b[1m \u001b[32m\u001b[1m1\u001b[0m\u001b[32m\u001b[1m\n",
      "  \u001b[33m\u001b[1mflags\u001b[0m\u001b[32m\u001b[1m\u001b[31m=\u001b[0m\u001b[32m\u001b[1m \u001b[32m\u001b[1m\u001b[0m\u001b[32m\u001b[1m\n",
      "  \u001b[33m\u001b[1mfrag\u001b[0m\u001b[32m\u001b[1m\u001b[31m=\u001b[0m\u001b[32m\u001b[1m \u001b[32m\u001b[1m0\u001b[0m\u001b[32m\u001b[1m\n",
      "  \u001b[33m\u001b[1mttl\u001b[0m\u001b[32m\u001b[1m\u001b[31m=\u001b[0m\u001b[32m\u001b[1m \u001b[32m\u001b[1m64\u001b[0m\u001b[32m\u001b[1m\n",
      "  \u001b[33m\u001b[1mproto\u001b[0m\u001b[32m\u001b[1m\u001b[31m=\u001b[0m\u001b[32m\u001b[1m \u001b[32m\u001b[1mtcp\u001b[0m\u001b[32m\u001b[1m\n",
      "  \u001b[33m\u001b[1mchksum\u001b[0m\u001b[32m\u001b[1m\u001b[31m=\u001b[0m\u001b[32m\u001b[1m \u001b[32m\u001b[1mNone\u001b[0m\u001b[32m\u001b[1m\n",
      "  \u001b[32msrc\u001b[0m\u001b[32m\u001b[1m\u001b[31m=\u001b[0m\u001b[32m\u001b[1m \u001b[32m192.168.1.103\u001b[0m\u001b[32m\u001b[1m\n",
      "  \u001b[32mdst\u001b[0m\u001b[32m\u001b[1m\u001b[31m=\u001b[0m\u001b[32m\u001b[1m \u001b[32mNet('example.com')\u001b[0m\u001b[32m\u001b[1m\n",
      "  \\\u001b[33m\u001b[1moptions\u001b[0m\u001b[32m\u001b[1m\\\n",
      "\u001b[31m###[\u001b[0m\u001b[32m\u001b[1m \u001b[31m\u001b[1mTCP\u001b[0m\u001b[32m\u001b[1m \u001b[31m]###\u001b[0m\u001b[32m\u001b[1m \n",
      "     \u001b[33m\u001b[1msport\u001b[0m\u001b[32m\u001b[1m\u001b[31m=\u001b[0m\u001b[32m\u001b[1m \u001b[32m\u001b[1mftp_data\u001b[0m\u001b[32m\u001b[1m\n",
      "     \u001b[33m\u001b[1mdport\u001b[0m\u001b[32m\u001b[1m\u001b[31m=\u001b[0m\u001b[32m\u001b[1m \u001b[32m\u001b[1mhttp\u001b[0m\u001b[32m\u001b[1m\n",
      "     \u001b[33m\u001b[1mseq\u001b[0m\u001b[32m\u001b[1m\u001b[31m=\u001b[0m\u001b[32m\u001b[1m \u001b[32m\u001b[1m0\u001b[0m\u001b[32m\u001b[1m\n",
      "     \u001b[33m\u001b[1mack\u001b[0m\u001b[32m\u001b[1m\u001b[31m=\u001b[0m\u001b[32m\u001b[1m \u001b[32m\u001b[1m0\u001b[0m\u001b[32m\u001b[1m\n",
      "     \u001b[33m\u001b[1mdataofs\u001b[0m\u001b[32m\u001b[1m\u001b[31m=\u001b[0m\u001b[32m\u001b[1m \u001b[32m\u001b[1mNone\u001b[0m\u001b[32m\u001b[1m\n",
      "     \u001b[33m\u001b[1mreserved\u001b[0m\u001b[32m\u001b[1m\u001b[31m=\u001b[0m\u001b[32m\u001b[1m \u001b[32m\u001b[1m0\u001b[0m\u001b[32m\u001b[1m\n",
      "     \u001b[33m\u001b[1mflags\u001b[0m\u001b[32m\u001b[1m\u001b[31m=\u001b[0m\u001b[32m\u001b[1m \u001b[32m\u001b[1mS\u001b[0m\u001b[32m\u001b[1m\n",
      "     \u001b[33m\u001b[1mwindow\u001b[0m\u001b[32m\u001b[1m\u001b[31m=\u001b[0m\u001b[32m\u001b[1m \u001b[32m\u001b[1m8192\u001b[0m\u001b[32m\u001b[1m\n",
      "     \u001b[33m\u001b[1mchksum\u001b[0m\u001b[32m\u001b[1m\u001b[31m=\u001b[0m\u001b[32m\u001b[1m \u001b[32m\u001b[1mNone\u001b[0m\u001b[32m\u001b[1m\n",
      "     \u001b[33m\u001b[1murgptr\u001b[0m\u001b[32m\u001b[1m\u001b[31m=\u001b[0m\u001b[32m\u001b[1m \u001b[32m\u001b[1m0\u001b[0m\u001b[32m\u001b[1m\n",
      "     \u001b[33m\u001b[1moptions\u001b[0m\u001b[32m\u001b[1m\u001b[31m=\u001b[0m\u001b[32m\u001b[1m \u001b[32m\u001b[1m[]\u001b[0m\u001b[32m\u001b[1m\n",
      "\u001b[31m###[\u001b[0m\u001b[32m\u001b[1m \u001b[31m\u001b[1mRaw\u001b[0m\u001b[32m\u001b[1m \u001b[31m]###\u001b[0m\u001b[32m\u001b[1m \n",
      "        \u001b[33m\u001b[1mload\u001b[0m\u001b[32m\u001b[1m\u001b[31m=\u001b[0m\u001b[32m\u001b[1m \u001b[32m\u001b[1m'GET /index.html HTTP/1.1\\r\\n\\r\\n'\u001b[0m\u001b[32m\u001b[1m\n",
      "\n"
     ]
    }
   ],
   "source": [
    "httpPkt.show()"
   ]
  },
  {
   "cell_type": "code",
   "execution_count": 15,
   "metadata": {},
   "outputs": [
    {
     "data": {
      "text/plain": [
       "\u001b[31m<\u001b[0m\u001b[32m\u001b[1m\u001b[31m\u001b[1mIP\u001b[0m\u001b[32m\u001b[1m  \u001b[33m\u001b[1mfrag\u001b[0m\u001b[32m\u001b[1m\u001b[31m=\u001b[0m\u001b[32m\u001b[1m\u001b[32m\u001b[1m0\u001b[0m\u001b[32m\u001b[1m \u001b[33m\u001b[1mproto\u001b[0m\u001b[32m\u001b[1m\u001b[31m=\u001b[0m\u001b[32m\u001b[1m\u001b[32m\u001b[1mtcp\u001b[0m\u001b[32m\u001b[1m \u001b[32mdst\u001b[0m\u001b[32m\u001b[1m\u001b[31m=\u001b[0m\u001b[32m\u001b[1m\u001b[32mNet('google.com')\u001b[0m\u001b[32m\u001b[1m \u001b[31m|\u001b[0m\u001b[32m\u001b[1m\u001b[31m<\u001b[0m\u001b[32m\u001b[1m\u001b[31m\u001b[1mTCP\u001b[0m\u001b[32m\u001b[1m  \u001b[33m\u001b[1mdport\u001b[0m\u001b[32m\u001b[1m\u001b[31m=\u001b[0m\u001b[32m\u001b[1m\u001b[32m\u001b[1mhttp\u001b[0m\u001b[32m\u001b[1m \u001b[33m\u001b[1mflags\u001b[0m\u001b[32m\u001b[1m\u001b[31m=\u001b[0m\u001b[32m\u001b[1m\u001b[32m\u001b[1mS\u001b[0m\u001b[32m\u001b[1m \u001b[31m|\u001b[0m\u001b[32m\u001b[1m\u001b[31m>\u001b[0m\u001b[32m\u001b[1m\u001b[31m>\u001b[0m\u001b[32m\u001b[1m"
      ]
     },
     "execution_count": 15,
     "metadata": {},
     "output_type": "execute_result"
    }
   ],
   "source": [
    "#TCP/IP full three-way handshake\n",
    "#send SYN packet\n",
    "syn = IP(dst='google.com')/TCP(dport=80, flags='S')\n",
    "syn"
   ]
  },
  {
   "cell_type": "code",
   "execution_count": 16,
   "metadata": {},
   "outputs": [
    {
     "name": "stdout",
     "output_type": "stream",
     "text": [
      "Begin emission:\n",
      "Finished sending 1 packets.\n",
      "\n",
      "Received 2 packets, got 1 answers, remaining 0 packets\n"
     ]
    }
   ],
   "source": [
    "# Receive SYN-ACK packet from google.com\n",
    "syn_ack = sr1(syn)\n"
   ]
  },
  {
   "cell_type": "markdown",
   "metadata": {},
   "source": [
    "### 3. Sniffing packets:"
   ]
  },
  {
   "cell_type": "code",
   "execution_count": 20,
   "metadata": {},
   "outputs": [
    {
     "data": {
      "text/plain": [
       "\u001b[31m<\u001b[0m\u001b[32m\u001b[1m\u001b[31m\u001b[1mSniffed\u001b[0m\u001b[32m\u001b[1m\u001b[31m:\u001b[0m\u001b[32m\u001b[1m \u001b[33m\u001b[1mTCP\u001b[0m\u001b[32m\u001b[1m\u001b[31m:\u001b[0m\u001b[32m\u001b[1m\u001b[32m\u001b[1m0\u001b[0m\u001b[32m\u001b[1m \u001b[33m\u001b[1mUDP\u001b[0m\u001b[32m\u001b[1m\u001b[31m:\u001b[0m\u001b[32m\u001b[1m\u001b[32m\u001b[1m2\u001b[0m\u001b[32m\u001b[1m \u001b[33m\u001b[1mICMP\u001b[0m\u001b[32m\u001b[1m\u001b[31m:\u001b[0m\u001b[32m\u001b[1m\u001b[32m\u001b[1m0\u001b[0m\u001b[32m\u001b[1m \u001b[33m\u001b[1mOther\u001b[0m\u001b[32m\u001b[1m\u001b[31m:\u001b[0m\u001b[32m\u001b[1m\u001b[32m\u001b[1m0\u001b[0m\u001b[32m\u001b[1m\u001b[31m>\u001b[0m\u001b[32m\u001b[1m"
      ]
     },
     "execution_count": 20,
     "metadata": {},
     "output_type": "execute_result"
    }
   ],
   "source": [
    "pkts = sniff(count=2)\n",
    "pkts"
   ]
  },
  {
   "cell_type": "code",
   "execution_count": 21,
   "metadata": {},
   "outputs": [
    {
     "name": "stdout",
     "output_type": "stream",
     "text": [
      "Packet #1: 52.109.12.20 ==> 192.168.1.103\n",
      "Packet #2: 192.168.1.103 ==> 52.109.12.20\n",
      "Packet #3: 192.168.1.103 ==> 239.255.255.250\n",
      "Packet #4: 192.168.1.103 ==> 239.255.255.250\n",
      "Packet #5: 192.168.1.103 ==> 13.227.178.25\n",
      "Packet #6: 13.227.178.25 ==> 192.168.1.103\n",
      "Packet #7: 192.168.1.103 ==> 13.227.178.25\n",
      "Packet #8: 192.168.1.103 ==> 13.227.178.25\n",
      "Packet #9: 13.227.178.25 ==> 192.168.1.103\n",
      "Packet #10: 13.227.178.25 ==> 192.168.1.103\n",
      "192.168.1.103 <--> 52.109.12.20: 2\n",
      "192.168.1.103 <--> 239.255.255.250: 2\n",
      "13.227.178.25 <--> 192.168.1.103: 6\n"
     ]
    }
   ],
   "source": [
    "#Keeping track of number of packets sniffed\n",
    "from collections import Counter\n",
    "from scapy.all import sniff\n",
    "packet_counts = Counter()\n",
    "def custom_action(packet):\n",
    "    key = tuple(sorted([packet[0][1].src, packet[0][1].dst]))\n",
    "    packet_counts.update([key])\n",
    "    return f\"Packet #{sum(packet_counts.values())}: {packet[0][1].src} ==> {packet[0][1].dst}\"\n",
    "sniff(filter=\"ip\", prn=custom_action, count=10)\n",
    "print(\"\\n\".join(f\"{f'{key[0]} <--> {key[1]}'}: {count}\" for key, count in packet_counts.items()))"
   ]
  },
  {
   "cell_type": "markdown",
   "metadata": {},
   "source": [
    "### 4. Traceroute:"
   ]
  },
  {
   "cell_type": "code",
   "execution_count": 22,
   "metadata": {},
   "outputs": [
    {
     "name": "stdout",
     "output_type": "stream",
     "text": [
      "Help on function traceroute in module scapy.layers.inet:\n",
      "\n",
      "traceroute(target, dport=80, minttl=1, maxttl=30, sport=<RandShort>, l4=None, filter=None, timeout=2, verbose=None, **kargs)\n",
      "    Instant TCP traceroute\n",
      "    \n",
      "    :param target:  hostnames or IP addresses\n",
      "    :param dport:   TCP destination port (default is 80)\n",
      "    :param minttl:  minimum TTL (default is 1)\n",
      "    :param maxttl:  maximum TTL (default is 30)\n",
      "    :param sport:   TCP source port (default is random)\n",
      "    :param l4:      use a Scapy packet instead of TCP\n",
      "    :param filter:  BPF filter applied to received packets\n",
      "    :param timeout: time to wait for answers (default is 2s)\n",
      "    :param verbose: detailed output\n",
      "    :return: an TracerouteResult, and a list of unanswered packets\n",
      "\n"
     ]
    }
   ],
   "source": [
    "help(traceroute)\n"
   ]
  },
  {
   "cell_type": "code",
   "execution_count": 23,
   "metadata": {},
   "outputs": [
    {
     "data": {
      "text/plain": [
       "Network          Netmask          Gateway      Iface                                       Output IP        Metric\n",
       "0.0.0.0          0.0.0.0          192.168.1.1  Remote NDIS based Internet Sharing Device   192.168.1.103    25\n",
       "192.168.0.0      255.255.0.0      0.0.0.0      Remote NDIS based Internet Sharing Device   192.168.1.103    281\n",
       "192.168.1.103    255.255.255.255  0.0.0.0      Remote NDIS based Internet Sharing Device   192.168.1.103    281\n",
       "192.168.255.255  255.255.255.255  0.0.0.0      Remote NDIS based Internet Sharing Device   192.168.1.103    281\n",
       "224.0.0.0        255.0.0.0        0.0.0.0      Bluetooth Device (Personal Area Network)    169.254.2.122    321\n",
       "224.0.0.0        255.0.0.0        0.0.0.0      Intel(R) Wireless-N 7265                    169.254.21.30    281\n",
       "224.0.0.0        255.0.0.0        0.0.0.0      Microsoft Wi-Fi Direct Virtual Adapter      169.254.181.83   281\n",
       "224.0.0.0        255.0.0.0        0.0.0.0      Microsoft Wi-Fi Direct Virtual Adapter #3   169.254.24.0     281\n",
       "224.0.0.0        255.0.0.0        0.0.0.0      TAP-Windows Adapter V9                      169.254.232.22   266\n",
       "224.0.0.0        255.0.0.0        0.0.0.0      TAP-Windows Adapter V9 for OpenVPN Connect  169.254.125.218  281\n",
       "224.0.0.0        255.0.0.0        0.0.0.0      Realtek PCIe GbE Family Controller          169.254.231.204  261\n",
       "224.0.0.0        255.0.0.0        0.0.0.0      Remote NDIS based Internet Sharing Device   192.168.1.103    281\n",
       "255.255.255.255  255.255.255.255  0.0.0.0      Bluetooth Device (Personal Area Network)    169.254.2.122    321\n",
       "255.255.255.255  255.255.255.255  0.0.0.0      Intel(R) Wireless-N 7265                    169.254.21.30    281\n",
       "255.255.255.255  255.255.255.255  0.0.0.0      Microsoft Wi-Fi Direct Virtual Adapter      169.254.181.83   281\n",
       "255.255.255.255  255.255.255.255  0.0.0.0      Microsoft Wi-Fi Direct Virtual Adapter #3   169.254.24.0     281\n",
       "255.255.255.255  255.255.255.255  0.0.0.0      TAP-Windows Adapter V9                      169.254.232.22   266\n",
       "255.255.255.255  255.255.255.255  0.0.0.0      TAP-Windows Adapter V9 for OpenVPN Connect  169.254.125.218  281\n",
       "255.255.255.255  255.255.255.255  0.0.0.0      Realtek PCIe GbE Family Controller          169.254.231.204  261\n",
       "255.255.255.255  255.255.255.255  0.0.0.0      Remote NDIS based Internet Sharing Device   192.168.1.103    281"
      ]
     },
     "execution_count": 23,
     "metadata": {},
     "output_type": "execute_result"
    }
   ],
   "source": [
    "conf.route\n"
   ]
  },
  {
   "cell_type": "code",
   "execution_count": 24,
   "metadata": {},
   "outputs": [
    {
     "name": "stdout",
     "output_type": "stream",
     "text": [
      "Begin emission:\n",
      "Finished sending 20 packets.\n",
      "\n",
      "Received 21 packets, got 14 answers, remaining 6 packets\n",
      "   216.58.196.68:tcp80 \n",
      "1  192.168.1.1     11  \n",
      "3  10.72.59.50     11  \n",
      "4  192.168.37.150  11  \n",
      "5  192.168.37.205  11  \n",
      "11 74.125.32.32    11  \n",
      "12 108.170.229.197 11  \n",
      "13 209.85.255.209  11  \n",
      "14 216.58.196.68   SA  \n",
      "15 216.58.196.68   SA  \n",
      "16 216.58.196.68   SA  \n",
      "17 216.58.196.68   SA  \n",
      "18 216.58.196.68   SA  \n",
      "19 216.58.196.68   SA  \n",
      "20 216.58.196.68   SA  \n"
     ]
    },
    {
     "data": {
      "text/plain": [
       "(\u001b[31m<\u001b[0m\u001b[32m\u001b[1m\u001b[31m\u001b[1mTraceroute\u001b[0m\u001b[32m\u001b[1m\u001b[31m:\u001b[0m\u001b[32m\u001b[1m \u001b[33m\u001b[1mTCP\u001b[0m\u001b[32m\u001b[1m\u001b[31m:\u001b[0m\u001b[32m\u001b[1m\u001b[32m\u001b[1m7\u001b[0m\u001b[32m\u001b[1m \u001b[33m\u001b[1mUDP\u001b[0m\u001b[32m\u001b[1m\u001b[31m:\u001b[0m\u001b[32m\u001b[1m\u001b[32m\u001b[1m0\u001b[0m\u001b[32m\u001b[1m \u001b[33m\u001b[1mICMP\u001b[0m\u001b[32m\u001b[1m\u001b[31m:\u001b[0m\u001b[32m\u001b[1m\u001b[32m\u001b[1m7\u001b[0m\u001b[32m\u001b[1m \u001b[33m\u001b[1mOther\u001b[0m\u001b[32m\u001b[1m\u001b[31m:\u001b[0m\u001b[32m\u001b[1m\u001b[32m\u001b[1m0\u001b[0m\u001b[32m\u001b[1m\u001b[31m>\u001b[0m\u001b[32m\u001b[1m,\n",
       " \u001b[31m<\u001b[0m\u001b[32m\u001b[1m\u001b[31m\u001b[1mUnanswered\u001b[0m\u001b[32m\u001b[1m\u001b[31m:\u001b[0m\u001b[32m\u001b[1m \u001b[33m\u001b[1mTCP\u001b[0m\u001b[32m\u001b[1m\u001b[31m:\u001b[0m\u001b[32m\u001b[1m\u001b[32m\u001b[1m6\u001b[0m\u001b[32m\u001b[1m \u001b[33m\u001b[1mUDP\u001b[0m\u001b[32m\u001b[1m\u001b[31m:\u001b[0m\u001b[32m\u001b[1m\u001b[32m\u001b[1m0\u001b[0m\u001b[32m\u001b[1m \u001b[33m\u001b[1mICMP\u001b[0m\u001b[32m\u001b[1m\u001b[31m:\u001b[0m\u001b[32m\u001b[1m\u001b[32m\u001b[1m0\u001b[0m\u001b[32m\u001b[1m \u001b[33m\u001b[1mOther\u001b[0m\u001b[32m\u001b[1m\u001b[31m:\u001b[0m\u001b[32m\u001b[1m\u001b[32m\u001b[1m0\u001b[0m\u001b[32m\u001b[1m\u001b[31m>\u001b[0m\u001b[32m\u001b[1m)"
      ]
     },
     "execution_count": 24,
     "metadata": {},
     "output_type": "execute_result"
    }
   ],
   "source": [
    "traceroute(target=\"www.google.com\", maxttl=20)\n",
    "# Result shows TCP traceroute on default port 80 with (SA - Syn Ack flags)\n"
   ]
  },
  {
   "cell_type": "code",
   "execution_count": null,
   "metadata": {},
   "outputs": [],
   "source": []
  }
 ],
 "metadata": {
  "kernelspec": {
   "display_name": "Python 3",
   "language": "python",
   "name": "python3"
  },
  "language_info": {
   "codemirror_mode": {
    "name": "ipython",
    "version": 3
   },
   "file_extension": ".py",
   "mimetype": "text/x-python",
   "name": "python",
   "nbconvert_exporter": "python",
   "pygments_lexer": "ipython3",
   "version": "3.7.6"
  }
 },
 "nbformat": 4,
 "nbformat_minor": 2
}
