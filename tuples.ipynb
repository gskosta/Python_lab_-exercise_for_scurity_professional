{
 "cells": [
  {
   "cell_type": "markdown",
   "metadata": {},
   "source": [
    "# <p style=\"text-align: center;\">**Exercise**</p>"
   ]
  },
  {
   "cell_type": "markdown",
   "metadata": {},
   "source": [
    "## **Aim**: Write Python programs for given exiersise.\n"
   ]
  },
  {
   "cell_type": "markdown",
   "metadata": {},
   "source": [
    "## 1. print reverse order of given tuple with slicing "
   ]
  },
  {
   "cell_type": "code",
   "execution_count": 9,
   "metadata": {},
   "outputs": [
    {
     "name": "stdout",
     "output_type": "stream",
     "text": [
      "Tuple befroe revers:  (1, 2, 3, 4, 5, 6, 7)\n",
      "Tuple after revers:  (7, 6, 5, 4, 3, 2, 1)\n"
     ]
    }
   ],
   "source": [
    "t1= (1,2,3,4,5,6,7)\n",
    "\n",
    "print('Tuple befroe revers: ', t1)\n",
    "print('Tuple after revers: ', t1[::-1])"
   ]
  },
  {
   "cell_type": "markdown",
   "metadata": {},
   "source": [
    "## 2. Unpack a tuple in saveral variable"
   ]
  },
  {
   "cell_type": "code",
   "execution_count": 70,
   "metadata": {},
   "outputs": [
    {
     "name": "stdout",
     "output_type": "stream",
     "text": [
      "the tuples i:  (4, 8, 3)\n",
      "after unpaking the tuples: 4 8 3\n"
     ]
    }
   ],
   "source": [
    "#create a tuple\n",
    "tpl = (4, 8, 3) \n",
    "print('the tuples i: ',tpl)\n",
    "g, s, k = tpl\n",
    "print('after unpaking the tuples:',g,s,k) "
   ]
  },
  {
   "cell_type": "markdown",
   "metadata": {},
   "source": [
    "## 3.convert a tuple in string using function join funciton"
   ]
  },
  {
   "cell_type": "code",
   "execution_count": 69,
   "metadata": {},
   "outputs": [
    {
     "name": "stdout",
     "output_type": "stream",
     "text": [
      "the tuples is:  ('c', 'y', 'b', 'e', 'r', ' ', 's', 'e', 'c', 'u', 'r', 'i', 't', 'y')\n",
      "after conversion of the tuples in the string: cyber security\n"
     ]
    }
   ],
   "source": [
    "def convertTuple(tup): \n",
    "    str =  ''.join(tup) \n",
    "    return str\n",
    "t = ('c', 'y', 'b','e', 'r', ' ', 's','e','c','u','r','i','t','y')\n",
    "print('the tuples is: ',t)\n",
    "str = convertTuple(t) \n",
    "print('after conversion of the tuples in the string:',str)"
   ]
  },
  {
   "cell_type": "markdown",
   "metadata": {},
   "source": [
    "## 4. Replace last value of tuple with 100, in a list."
   ]
  },
  {
   "cell_type": "code",
   "execution_count": 53,
   "metadata": {},
   "outputs": [
    {
     "name": "stdout",
     "output_type": "stream",
     "text": [
      "the original tuples is:  [(10, 20, 40), (40, 50, 60), (70, 80, 90)]\n",
      "tuples after modified [(10, 20, 100), (40, 50, 100), (70, 80, 100)]\n"
     ]
    }
   ],
   "source": [
    "t1= [(10,20,40), (40,50,60),(70,80,90)]\n",
    "print('the original tuples is: ', t1)\n",
    "print('tuples after modified',[t[:-1] + (100,) for t in t1])"
   ]
  }
 ],
 "metadata": {
  "kernelspec": {
   "display_name": "Python 3",
   "language": "python",
   "name": "python3"
  },
  "language_info": {
   "codemirror_mode": {
    "name": "ipython",
    "version": 3
   },
   "file_extension": ".py",
   "mimetype": "text/x-python",
   "name": "python",
   "nbconvert_exporter": "python",
   "pygments_lexer": "ipython3",
   "version": "3.7.6"
  }
 },
 "nbformat": 4,
 "nbformat_minor": 2
}
