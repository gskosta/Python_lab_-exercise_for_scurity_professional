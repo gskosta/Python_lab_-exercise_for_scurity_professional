{
 "cells": [
  {
   "cell_type": "markdown",
   "metadata": {},
   "source": [
    "# <p style=\"text-align: center;\">**Exercise**</p>"
   ]
  },
  {
   "cell_type": "markdown",
   "metadata": {},
   "source": [
    "## **Aim**: Write a Python program to demonstrate Python Error and Exceptions handling."
   ]
  },
  {
   "cell_type": "code",
   "execution_count": 7,
   "metadata": {},
   "outputs": [],
   "source": [
    "def f1():\n",
    "    while True:\n",
    "       try:\n",
    "            x = int( input( \"enter a number: \" ) )\n",
    "            y = int( input( \"enter another number: \" ) )\n",
    "            print( x, '/', y, '=', x/y )\n",
    "            break\n",
    "       except ZeroDivisionError:\n",
    "            print( \"Can't divide by 0!\" )\n",
    "       except ValueError:\n",
    "            print( \"That doesn't look like a number!\" )\n",
    "       except:\n",
    "            print( \"something unexpected happend!\" )\n",
    "            "
   ]
  },
  {
   "cell_type": "code",
   "execution_count": 8,
   "metadata": {},
   "outputs": [],
   "source": [
    "def  f2( L ):\n",
    "    print( \"\\n\\n Functioin 2\" )\n",
    "    print( \"L          = \", L )\n",
    "    sum = 0\n",
    "    sumOfPairs = []\n",
    "    for i in range( len( L ) ):\n",
    "            try:\n",
    "                sumOfPairs.append( L[i]+L[i+1] )\n",
    "            except IndexError:\n",
    "                continue\n",
    "            except TypeError:\n",
    "                continue\n",
    "    \n",
    "    print( \"sumOfPairs = \", sumOfPairs )\n"
   ]
  },
  {
   "cell_type": "code",
   "execution_count": 10,
   "metadata": {},
   "outputs": [
    {
     "name": "stdout",
     "output_type": "stream",
     "text": [
      "enter a number: 25\n",
      "enter another number: 0\n",
      "Can't divide by 0!\n",
      "enter a number: 25\n",
      "enter another number: 50\n",
      "25 / 50 = 0.5\n",
      "\n",
      "\n",
      " Functioin 2\n",
      "L          =  [10, 3, 5, 6, 9, 3]\n",
      "sumOfPairs =  [13, 8, 11, 15, 12]\n",
      "\n",
      "\n",
      " Functioin 2\n",
      "L          =  [10, 3, 'NA', 6, 9, 3]\n",
      "sumOfPairs =  [13, 15, 12]\n",
      "***Error*** File ./Dessssktop/misspelled.txt not found!\n"
     ]
    }
   ],
   "source": [
    "def  f2( L ):\n",
    "    print( \"\\n\\n Functioin 2\" )\n",
    "    print( \"L          = \", L )\n",
    "    sum = 0\n",
    "    sumOfPairs = []\n",
    "    for i in range( len( L ) ):\n",
    "            try:\n",
    "                sumOfPairs.append( L[i]+L[i+1] )\n",
    "            except IndexError:\n",
    "                continue\n",
    "            except TypeError:\n",
    "                continue\n",
    "    \n",
    "    print( \"sumOfPairs = \", sumOfPairs )\n",
    "\n",
    "\n",
    "def printUpperFile( fileName ):\n",
    "    try:\n",
    "       file = open( fileName, \"r\" )\n",
    "    except FileNotFoundError:\n",
    "       print( \"***Error*** File\", fileName, \"not found!\" )\n",
    "       return False\n",
    "    \n",
    "    for line in file:\n",
    "        print( line.upper() )\n",
    "    file.close()\n",
    "    return True\n",
    "    \n",
    "def main():\n",
    "    f1()\n",
    "    \n",
    "    L = [ 10, 3, 5, 6, 9, 3 ]\n",
    "    f2( L )\n",
    "\n",
    "    L = [ 10, 3, \"NA\", 6, 9, 3 ]\n",
    "    f2( L )\n",
    "    \n",
    "    open( \"doesNotExistYest.txt\", \"w\" ).close()\n",
    "\n",
    "    printUpperFile( \"doesNotExistYest.txt\" )\n",
    "        \n",
    "    printUpperFile( \"./Dessssktop/misspelled.txt\" )\n",
    "\n",
    "\n",
    "main()\n"
   ]
  },
  {
   "cell_type": "code",
   "execution_count": null,
   "metadata": {},
   "outputs": [],
   "source": []
  }
 ],
 "metadata": {
  "kernelspec": {
   "display_name": "Python 3",
   "language": "python",
   "name": "python3"
  },
  "language_info": {
   "codemirror_mode": {
    "name": "ipython",
    "version": 3
   },
   "file_extension": ".py",
   "mimetype": "text/x-python",
   "name": "python",
   "nbconvert_exporter": "python",
   "pygments_lexer": "ipython3",
   "version": "3.7.6"
  }
 },
 "nbformat": 4,
 "nbformat_minor": 2
}
